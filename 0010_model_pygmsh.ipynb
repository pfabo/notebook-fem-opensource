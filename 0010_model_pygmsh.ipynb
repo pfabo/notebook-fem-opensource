{
 "cells": [
  {
   "cell_type": "markdown",
   "metadata": {},
   "source": [
    "# <font color='navy'> <b> Vytvorenie simulačného modelu pomocou programu *gmsh*</b></font> \n",
    "\n",
    "Úlohou predprocesora je vytvorenie simulačného modelu, prostredia a vygenerovanie vstupných dát pre simulačné prostredie. Vytvorený model sa často používa po simulácii v post-procesore pri zobrazení výsledkov, pretože výsledkom simulácie bývajú zvyčajne dáta o simulovanom jave (napr. intenzita elektrického poľa) a vlastný model nemusí byť súčasťou týchto dát.      \n",
    "\n",
    "## <font color='teal'> <b> Vytvorenie modelu pomocou programu *gmsh* </b></font>\n",
    "\n",
    "[Gmsh](http://gmsh.info/) je 2D/3D generátor siete modelu, je možno ho použiť aj na zobrazenie výsledkov simulácií. Je súčasťou komplexného prostredia [OneLab](http://onelab.info/), v ktorom je integrovaný univerzálny solver pre riešenie problémov. Aktuálne je podľa štatistík (Elmer) najpoužívanejším multifyzikálnym simulátorom v akademickom prostredí $(44\\%)$.\n",
    "\n",
    "\n",
    "Vytvorenie modelu pozostáva z definovania elementárnych entít - bodov, spojovacích línií, vytvorení plôch a objemov. Na základe elementárnych entít sú definované fyzické skupiny, z ktorých sú potom generované siete pre konečné prvky. Fyzické skupiny môžu pozostávať z viacerých elementárnych entít. Manuál ku gmsh - [link](https://bthierry.pages.math.cnrs.fr/tutorial/gmsh/).\n",
    "\n",
    "Pre vytvorenie modelu môžeme použiť niekoľko postupov, prípadne ich vzájomne kombinovať.\n",
    "\n",
    "\n",
    "### <font color='purple'> <b> Metóda 1. Vytvorenie modelu manuálne v GUI </b></font>\n",
    "    \n",
    "Manuálnym zadaním je vhodné vytvárať len veľmi jednoduché modely pre overenie funkčnosti prostredia (aj keď tvorcovia *gmsh* sú iného názoru), konfigurácií a v pedagogickom procese pri demonštrácii princípov pri vytváraní modelu. "
   ]
  },
  {
   "cell_type": "markdown",
   "metadata": {},
   "source": [
    "**Postup** \n",
    "\n",
    "* Vytvorenie sústavy bodov\n",
    "    * *Modules - Geometry - Elementary entities - Add - Point*\n",
    "* Vytvorenie prepojovacích línií - sú orientované (začiatok - koniec)  \n",
    "    * *Modules - Geometry - Elementary entities - Add - Line*\n",
    "* Vytvorenie plôch - 2D plocha\n",
    "    * *Modules - Geometry - Elementary entities - Add - Plane surface*\n",
    "    * Referenčným bodom plochy je jej stred\n",
    "  \n",
    "* Konverzia elementárnej plochy na fyzický komponent (môže pozostávať napr. z viacerých logických plôch a pod.)\n",
    "    * *Modules - Geometry - Physical groups - Add - Surface*\n",
    "  \n",
    "* Vytvorenie siete\n",
    "    * *Mesh - Define - 2D*\n",
    "* Zjemnenie siete\n",
    "    * *Mesh - Define - Refine by splitting*\n",
    "  \n",
    "Výsledok vytvárania modelu a siete sa automaticky zapisuje do súboru *\\*.geo*, ktorý je možné editovať a použiť ako skript (nižšie).\n",
    "\n",
    "**Príklad vygenerovanej siete**\n",
    "\n",
    "<img src=\"./img/gmsh_01.png\" width=\"600\">\n"
   ]
  },
  {
   "cell_type": "markdown",
   "metadata": {},
   "source": [
    "### <font color='purple'> <b> Metoda 2. Vytvorenie modelu skriptom </b></font>\n",
    "\n",
    "\n",
    "*Gmsh* má vlastný skriptovací jazyk pre definovanie modelov, jednotlivé príkazy sa zadávajú do textového súboru, ktorý sa načíta pri spustení programu. Pri zadaní bodov zároveň definujeme aj hustotu generovanej siete v okolí bodu. \n",
    "\n",
    "**Príklad fragmentu skriptu zo súboru *[ex_01.geo](./data/ex_01.geo)***\n",
    "\n",
    "    // elementarne entity\n",
    "    Point(1) = {-10,  10, 0, 1.0};          // bod x,y,z,hustota siete v okoli bodu\n",
    "    Point(4) = { 10,  10, 0, 1.0};\n",
    "    Line(1) = {1, 4};                       // usecka z dvoch bodov\n",
    "                                            // vytvorenie obrysu - uzatvorenej krivky\n",
    "    Line Loop(5) = {3, 4, 1, 2, 13, 14, 11, 12, 23, 24, 21, 22}; \n",
    "    Plane Surface(6) = {5};                 // vytvorenie plochy z obrysu    \n",
    "    ...\n",
    "    \n",
    "    // fyzicke entity\n",
    "    Physical Line(\"e1\") = {11, 14, 13, 12}; // lomena ciara zlozena z useciek\n",
    "    ..\n",
    "    Physical Surface(\"air\") = {6};          // fyzicka plocha - moze byt zlozena z viacerych \n",
    "    \n",
    "**Model vygenerovaný skriptom *ex_01.geo***\n",
    "\n",
    "<img src=\"./img/gmsh_02.png\" width=\"600\">\n"
   ]
  },
  {
   "cell_type": "markdown",
   "metadata": {},
   "source": [
    "### <font color='purple'> <b> Metóda 3. Vytvorenie parametrického modelu programom - skriptom </b></font>\n",
    "\n",
    "Pre problémy spojené so zmenou parametrov modelu, napríklad pre potreby optimalizácie, je potrebné mať model alebo jeho časti zadané pomocou parametrov (napr. rozmery, poloha prvkov a pod.), ktoré môžeme meniť. Pre generovanie parametrického modelu existujú podporné programy a knižnice, jedným z nich je knižnica [pygmsh](https://pypi.org/project/pygmsh/).\n",
    "\n",
    "**Inštalácia**\n",
    "\n",
    "    sudo dnf install python3-gmsh\n",
    "    pip install pygmsh\n",
    "    \n",
    "V *pygmsh* je možné model vytvoriť pomocou API, ktoré pozostáva z dvoch častí\n",
    "\n",
    "* emulujúcich príkazy skriptu *gmsh* (add_point, add_line ...)\n",
    "* funkcií kompatibilných s [openCASCADE](https://dev.opencascade.org/doc/overview/html/technical_overview.html) určených  pre vytváranie a modelovanie 2D a 3D objektov (add_ball, add_box ...) a operácií nad nimi (union, difference, extrude ...). Vygenerované modely je možné exportovať v rôznych formátoch pre použitie v post-procesingu, napríklad v programe *Paraview*."
   ]
  },
  {
   "cell_type": "code",
   "execution_count": 2,
   "metadata": {},
   "outputs": [
    {
     "name": "stdout",
     "output_type": "stream",
     "text": [
      "Info    : Writing './data/skript_gmsh_01.geo_unrolled'...\n",
      "Info    : Done writing './data/skript_gmsh_01.geo_unrolled'\n"
     ]
    }
   ],
   "source": [
    "# vytvorenie modelu pomocou gmsh skriptu\n",
    "import pygmsh\n",
    "\n",
    "with pygmsh.geo.Geometry() as geom:\n",
    "    geom.add_polygon(\n",
    "        [\n",
    "            [0.0, 0.0],\n",
    "            [1.0, -0.2],\n",
    "            [1.1, 1.2],\n",
    "            [0.1, 0.7],\n",
    "        ],\n",
    "        mesh_size=0.1,\n",
    "    )\n",
    "    # export geometrie modelu\n",
    "    geom.save_geometry('./data/skript_gmsh_01.geo_unrolled')\n",
    "\n",
    "    # generovanie mriezky - vtk format\n",
    "    mesh = geom.generate_mesh()\n",
    "    mesh.write(\"./data/skript_gmsh_01.vtk\")\n"
   ]
  },
  {
   "cell_type": "markdown",
   "metadata": {},
   "source": [
    "<img src=\"./img/scr_gmsh_01.png\" width=\"600\">"
   ]
  },
  {
   "cell_type": "code",
   "execution_count": 3,
   "metadata": {},
   "outputs": [
    {
     "name": "stdout",
     "output_type": "stream",
     "text": [
      "\u001b[32;1m\n",
      "*******************************************************************\n",
      "******        Statistics on Transfer (Write)                 ******\u001b[0m\n",
      "\u001b[32;1m\n",
      "*******************************************************************\n",
      "******        Transfer Mode = 0  I.E.  As Is       ******\u001b[0m\n",
      "\u001b[32;1m******        Transferring Shape, ShapeType = 0                      ******\u001b[0m\n",
      "\u001b[32;1m** WorkSession : Sending all data\u001b[0m\n",
      "\u001b[32;1m Step File Name : ./data/skript_gmsh_02.step(1077 ents)  Write  Done\u001b[0m\n"
     ]
    }
   ],
   "source": [
    "# vytvorenie modelu pomocou skriptu pre simulacne prostredie OpenCascade\n",
    "import gmsh\n",
    "import pygmsh\n",
    "\n",
    "gmsh.initialize()\n",
    "gmsh.option.setNumber(\"General.Terminal\",0)\n",
    "\n",
    "with pygmsh.occ.Geometry() as geom:\n",
    "    geom.characteristic_length_min = 0.1\n",
    "    geom.characteristic_length_max = 0.3\n",
    "\n",
    "    rectangle = geom.add_rectangle([-1.0, -1.0, 0.0], 2.0, 2.0)\n",
    "    disk1 = geom.add_disk([-1.2, 0.0, 0.0], 0.5)\n",
    "    disk2 = geom.add_disk([+1.2, 0.0, 0.0], 0.5)\n",
    "\n",
    "    disk3 = geom.add_disk([0.0, -0.9, 0.0], 0.5)\n",
    "    disk4 = geom.add_disk([0.0, +0.9, 0.0], 0.5)\n",
    "\n",
    "    flat = geom.boolean_union([rectangle, disk1, disk2, disk3, disk4]) \n",
    "\n",
    "    geom.extrude(flat, [0, 0, 0.3])\n",
    "\n",
    "    # zapis geometrie modelu v roznych formatoch\n",
    "    geom.save_geometry('./data/skript_gmsh_02.geo_unrolled')\n",
    "    geom.save_geometry('./data/skript_gmsh_02.brep')\n",
    "    geom.save_geometry('./data/skript_gmsh_02.step')\n",
    "\n",
    "    mesh = geom.generate_mesh()\n",
    "    mesh.write(\"./data/skript_gmsh_02.vtk\")\n"
   ]
  },
  {
   "cell_type": "markdown",
   "metadata": {},
   "source": [
    "<br>\n",
    "Zobrazenie vygenerovanej siete v *gmsh*, mriezka neobsahuje fyzicke entity.  Ak pri generovaní modelu vypíše skript hlásenie \n",
    "\n",
    "    Error   : Unknown number option 'General.NativeFileChooser'\n",
    "\n",
    "treba zmazať konfiguračný súbor pre *gmsh* v hlavnom adresári **.gmshrc** \n",
    "\n",
    "<br>\n",
    "<img src=\"./img/skript_gmsh_02.png\" width=\"600\">\n",
    "\n"
   ]
  },
  {
   "cell_type": "markdown",
   "metadata": {},
   "source": [
    "<br>\n",
    "\n",
    "V *gmsh* môžeme vytvoriť sieť a objekt exportovať do formátu [*VTK*](http://www.cacr.caltech.edu/~slombey/asci/vtk/vtk_formats.simple.html) (*Visualisation Toolkit*), ktorý vie načítať program pre post-processing [*ParaView*](https://www.paraview.org/).\n",
    "\n",
    "<br>\n",
    "<img src=\"./img/para_01.png\" width=\"600\">"
   ]
  },
  {
   "cell_type": "markdown",
   "metadata": {},
   "source": [
    "### <font color='purple'> <b> Metóda 4. Tvorba modelu pomocou CAD programov </b></font>\n",
    "\n",
    "Komplexnejšie modely je možné tvoriť pomocou open-source CAD programov, program FreeCAD poskytuje aj možnosť skriptovania modelu v Pythone. Typ modelu závisí od predpokladaného typu simulácie, napr. pre simuláciu elektrostatického poľa - kde nás zaujíma tvar elektrického poľa v prostredí - vytvárame model v tvare dutín v prostredí, kde jednotlivé plochy dutín reprezentujú elekródy so stanoveným potenciálom alebo okrajové podmienky.\n",
    "\n",
    "<img src=\"./img/fc_01.png\" width=\"600\">\n",
    "\n",
    "Vo FreeCad-e exportujeme model vo formáte BREP, ktorý vie čítať generátor mriežky *gmsh*. \n",
    "\n",
    "Súbor *\\*.brep* obsahuje model rozložený na elementárne entity, neobsahuje ale fyzické entity. Mená objektov z FreeCAD-u nie sú súčasťou formátu *\\*.brep* (a zrejme by to prinášalo problémy), preto musíme jednotlivé fyzické entity \"poskladať\" ručne - doplnením do súboru *\\*.geo*.\n",
    "\n",
    "Zásadným rozdielom medzi elementárnou a fyzickou entitou je tem, že jedna fyzická entita (napr. elektróda, zemná plocha atď.) môže byť poskladaná z viacerých fyzických entít. Naopak - jeden objekt v CAD-e (napr. valec) môže (ako sústava 3 entít - dno, dekel, plášť) reprezentovať samostatné fyzické entity (2 elektródy spojené izolátorom).\n",
    "\n",
    "**Priradenie fyzických entít - Príklad *ex_03.geo***  \n",
    "\n",
    "Do súboru importujeme vygenerovaný súbor *ex_03.brep* a doplníme definície fyzických entít. Nepríjemné je hlavne určenie jednotlivých plôch objektov, naštastie sú generované v jednotlivých objektoch v poradí a pomôcť si môžeme aj zobrazením označenia entít v *gmsh*. \n",
    "    \n",
    "    Merge \"exp_03.brep\";\n",
    "    Physical Volume(\"air\") = {1};\n",
    "\n",
    "    Physical Surface(\"s2\")  = {7,8,9};\n",
    "    Physical Surface(\"q1\")  = {10,11,12};\n",
    "    Physical Surface(\"ext\") = {1,2,3,4,5,6};\n",
    "\n",
    "<img src=\"./img/scr_gmsh_02.png\" width=\"600\">\n"
   ]
  },
  {
   "cell_type": "markdown",
   "metadata": {},
   "source": [
    "## <font color='teal'> <b> Generovanie mriežky v programe *gmsh* </b></font>\n",
    "\n",
    "V program *gmsh* môžeme vytvárať mriežku podľa potreby jej zjemnením, vyhladením a pod. Program (ver. 4.0 a vyššia) automaticky pri ukladaní zvolí formát mriežky vo verzii 4, ktorú simulačný engine ElmerCSC (zatiaľ) nepozná, preto je potrebné pri ukladaní zvoliť export mriežky vo formáte 2.0 (ASCII 2).\n",
    "\n",
    "Vygenerovanú sieť môžeme skontrolovať v grafickom rozhraní ElmerGUI (s obmedzeniami ...).\n",
    "\n",
    "<img src=\"./img/elmer_01.png\" width=\"600\">\n",
    "\n",
    "\n",
    "### <font color='purple'> <b> Generovanie mrižky skriptom </b></font>\n",
    "\n",
    "Pri častejších zmenách modelu je ručné opakované generovanie mriežky zdĺhavé, môžeme si pomôcť vygenerovaním siete priamo v súbore *\\*.geo* \n",
    "\n",
    "**Konfigurácia automatického generovania mriežky - Príklad *ex_04.geo***\n",
    "\n",
    "    Merge \"ex_03.brep\";\n",
    "    Physical Volume(\"air\") = {1};\n",
    "\n",
    "    Physical Surface(\"s2\")  = {7,8,9};\n",
    "    Physical Surface(\"q1\")  = {10,11,12};\n",
    "    Physical Surface(\"ext\") = {1,2,3,4,5,6};\n",
    "\n",
    "    Mesh 3;\n",
    "    RefineMesh;\n",
    "    RefineMesh;\n",
    "    \n",
    "Sieť vygenerujeme a zapíšeme v správnom formáte v povelovom riadku príkazom\n",
    "\n",
    "     gmsh ex_04.geo -3 -format msh2 -save_all -o ex_04.msh \n",
    "\n",
    "--------------"
   ]
  }
 ],
 "metadata": {
  "kernelspec": {
   "display_name": "Python 3 (ipykernel)",
   "language": "python",
   "name": "python3"
  },
  "language_info": {
   "codemirror_mode": {
    "name": "ipython",
    "version": 3
   },
   "file_extension": ".py",
   "mimetype": "text/x-python",
   "name": "python",
   "nbconvert_exporter": "python",
   "pygments_lexer": "ipython3",
   "version": "3.13.1"
  },
  "latex_envs": {
   "LaTeX_envs_menu_present": true,
   "autoclose": false,
   "autocomplete": true,
   "bibliofile": "biblio.bib",
   "cite_by": "apalike",
   "current_citInitial": 1,
   "eqLabelWithNumbers": true,
   "eqNumInitial": 1,
   "hotkeys": {
    "equation": "Ctrl-E",
    "itemize": "Ctrl-I"
   },
   "labels_anchors": false,
   "latex_user_defs": false,
   "report_style_numbering": false,
   "user_envs_cfg": false
  },
  "varInspector": {
   "cols": {
    "lenName": 16,
    "lenType": 16,
    "lenVar": 40
   },
   "kernels_config": {
    "python": {
     "delete_cmd_postfix": "",
     "delete_cmd_prefix": "del ",
     "library": "var_list.py",
     "varRefreshCmd": "print(var_dic_list())"
    },
    "r": {
     "delete_cmd_postfix": ") ",
     "delete_cmd_prefix": "rm(",
     "library": "var_list.r",
     "varRefreshCmd": "cat(var_dic_list()) "
    }
   },
   "types_to_exclude": [
    "module",
    "function",
    "builtin_function_or_method",
    "instance",
    "_Feature"
   ],
   "window_display": false
  }
 },
 "nbformat": 4,
 "nbformat_minor": 4
}
