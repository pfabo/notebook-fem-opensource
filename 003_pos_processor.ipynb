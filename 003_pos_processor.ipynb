{
 "cells": [
  {
   "cell_type": "markdown",
   "metadata": {},
   "source": [
    "# Post-Processing\n",
    "\n",
    "Výsledok simulácie vo formáte vtu (ParaView VTK Unstructured Data) možné ďalej spracovávať a vizualizovať. Pre formát VTU existuje množstvo programov, zoznam je uvedený na https://www.vtk.org/Wiki/VTK_Tools\n"
   ]
  },
  {
   "cell_type": "markdown",
   "metadata": {},
   "source": [
    "## Vizualizácia VTU dát pomocou ParaView\n",
    "\n",
    "**ParaView** je komplexný vizualizačný nástroj určený pre spracovanie rozsiahlych dát, skriptovateľný v Pythone s možnosťou využitia paralelnej architektúry CPU."
   ]
  },
  {
   "cell_type": "code",
   "execution_count": 1,
   "metadata": {},
   "outputs": [],
   "source": [
    "import os\n",
    "_ = os.system(\"paraview ./sim/ex_01/output0001.vtu\")"
   ]
  },
  {
   "cell_type": "markdown",
   "metadata": {},
   "source": [
    "<img src=\"./img/pw_01.png\" width=550 alt=\"Vizualizacia potencialov a polí v Paraview\" scale=\"0.3\">\n"
   ]
  },
  {
   "cell_type": "markdown",
   "metadata": {},
   "source": [
    "### Import dát a ich úpravy\n",
    "\n",
    "V ParaView je spracovanie dát organizované vo forme grafu, kde na výsledok predchádzajúcej aktivity uplatňujeme rôzne filtre. Vstupné dáta (program rozpoznáva veľké množstvo formátov) je možné spracovať rôznymi spôsobmi a výsledky kombinovať vo finálnom zobrazení. Filtrov je veľa typov, najčastejšie používané sú\n",
    "\n",
    "  * WarpByScalar - 3D reprezentácia skalárnych dát\n",
    "  * Clip - orezanie dát\n",
    "  * Slice - rez dátami\n",
    "  * Contour - vrstevnice \n",
    "  * Delaunay - vyhladzovanie 2D/3D dát\n",
    "  * ...\n",
    "  \n",
    "Je možné vytvárať si aj vlastné špecifické filtre. Vysledok každého kroku spracovania je možné samostatne zobraziť. Je možné zo série simulácií vytvárať animácie, program poskytuje množstvo ďaľších možností. Program je skriptovateľný v Pythone. \n",
    "  "
   ]
  }
 ],
 "metadata": {
  "kernelspec": {
   "display_name": "Python 3",
   "language": "python",
   "name": "python3"
  },
  "language_info": {
   "codemirror_mode": {
    "name": "ipython",
    "version": 3
   },
   "file_extension": ".py",
   "mimetype": "text/x-python",
   "name": "python",
   "nbconvert_exporter": "python",
   "pygments_lexer": "ipython3",
   "version": "3.6.7"
  },
  "latex_envs": {
   "LaTeX_envs_menu_present": true,
   "autoclose": false,
   "autocomplete": true,
   "bibliofile": "biblio.bib",
   "cite_by": "apalike",
   "current_citInitial": 1,
   "eqLabelWithNumbers": true,
   "eqNumInitial": 1,
   "hotkeys": {
    "equation": "Ctrl-E",
    "itemize": "Ctrl-I"
   },
   "labels_anchors": false,
   "latex_user_defs": false,
   "report_style_numbering": false,
   "user_envs_cfg": false
  },
  "varInspector": {
   "cols": {
    "lenName": 16,
    "lenType": 16,
    "lenVar": 40
   },
   "kernels_config": {
    "python": {
     "delete_cmd_postfix": "",
     "delete_cmd_prefix": "del ",
     "library": "var_list.py",
     "varRefreshCmd": "print(var_dic_list())"
    },
    "r": {
     "delete_cmd_postfix": ") ",
     "delete_cmd_prefix": "rm(",
     "library": "var_list.r",
     "varRefreshCmd": "cat(var_dic_list()) "
    }
   },
   "types_to_exclude": [
    "module",
    "function",
    "builtin_function_or_method",
    "instance",
    "_Feature"
   ],
   "window_display": false
  }
 },
 "nbformat": 4,
 "nbformat_minor": 2
}
