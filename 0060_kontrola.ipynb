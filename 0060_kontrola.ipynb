{
 "cells": [
  {
   "cell_type": "markdown",
   "metadata": {},
   "source": [
    "## Kontrola a verifikácia výsledkov simulácie\n",
    "\n",
    "Podľa hesla - **dôveruj ale preveruj** - je najlepšie skontrolovať postup a výsledky simulácie podľa analytického výpočtu, ak je to možné, prípadne je vhodné použiť na úvodnú simuláciu aj nejakú zjednodušenú verziu problému. K tejto sa je dobré vrátiť pri zmene parametrov simulácie a používať ju ako referenčný príklad.\n",
    "\n",
    "### Typické problémy\n",
    "\n",
    "**Divergentné stavy** \n",
    "\n",
    "Pri simulácii môže dôjsť k stavu, kedy simulovaný problém je fyzikálne korektný, ale z hladiska simulátora vedie k divergentným a nestabilným stavom. Pres procesom simulácie je potrebné takéto stavy identifikovať a vhodným spôsobom eliminovať. Príklado, môže byť napr. aktívne elektrostatické tienenie v sústane elektród pre potlačenie rušivých signálov - má nulovú vzájopmnú kapacita k aktívnej elektróde. \n",
    "\n",
    "**Hustota mriežky**\n",
    "\n",
    "Má zásadný vplyv na presnosť výpočtu, na druhej strane ovplyvňuje rýchlosť výpočtu.\n",
    "\n",
    "------------------------\n",
    "\n",
    "Havária [ropnej plošiny](http://www-users.math.umn.edu/~arnold/disasters/sleipner.html) 23.8.1991 *Sleipner A* bola spôsobená nevhodnou konfiguráciou prvkov pri výpočte konštrukcie, výsledkom boli poddimenzované hrúbky betónových stien podvodných zásobníkov ropy. Plošina sa rozpadla pri teste tesnosti, škoda vo výške 700 mil. USD. Celá havária a jej príčiny sú popísané v  [publikácii](https://journals.library.mun.ca/ojs/index.php/prototype/article/view/422).\n",
    "\n",
    "<img src=\"./img/post_01.gif\" width=250 >\n",
    "\n",
    "*The post accident investigation traced the error to inaccurate finite element approximation of the linear elastic model of the tricell (using the popular finite element program NASTRAN). The shear stresses were underestimated by 47%, leading to insufficient design. In particular, certain concrete walls were not thick enough. More careful finite element analysis, made after the accident, predicted that failure would occur with this design at a depth of 62m, which matches well with the actual occurrence at 65m.*\n",
    "\n",
    "<img src=\"./img/post_02.jpg\" width=450 >\n",
    "\n",
    "------------------------\n",
    "\n",
    "**Rozmer pracovnej oblasti**\n",
    "\n",
    "Veľkosť pracovného objemu / plochy určuje vplyv okrajových podmienok na jej hranici na výsledok výpočtu. Pri malom zvolenom objeme/ploche sa môžu výsledky výrazne odlišovať od skutočných / analýtických hodnôt."
   ]
  }
 ],
 "metadata": {
  "kernelspec": {
   "display_name": "Python 3 (ipykernel)",
   "language": "python",
   "name": "python3"
  },
  "language_info": {
   "codemirror_mode": {
    "name": "ipython",
    "version": 3
   },
   "file_extension": ".py",
   "mimetype": "text/x-python",
   "name": "python",
   "nbconvert_exporter": "python",
   "pygments_lexer": "ipython3",
   "version": "3.13.2"
  },
  "latex_envs": {
   "LaTeX_envs_menu_present": true,
   "autoclose": false,
   "autocomplete": true,
   "bibliofile": "biblio.bib",
   "cite_by": "apalike",
   "current_citInitial": 1,
   "eqLabelWithNumbers": true,
   "eqNumInitial": 1,
   "hotkeys": {
    "equation": "Ctrl-E",
    "itemize": "Ctrl-I"
   },
   "labels_anchors": false,
   "latex_user_defs": false,
   "report_style_numbering": false,
   "user_envs_cfg": false
  },
  "varInspector": {
   "cols": {
    "lenName": 16,
    "lenType": 16,
    "lenVar": 40
   },
   "kernels_config": {
    "python": {
     "delete_cmd_postfix": "",
     "delete_cmd_prefix": "del ",
     "library": "var_list.py",
     "varRefreshCmd": "print(var_dic_list())"
    },
    "r": {
     "delete_cmd_postfix": ") ",
     "delete_cmd_prefix": "rm(",
     "library": "var_list.r",
     "varRefreshCmd": "cat(var_dic_list()) "
    }
   },
   "types_to_exclude": [
    "module",
    "function",
    "builtin_function_or_method",
    "instance",
    "_Feature"
   ],
   "window_display": false
  }
 },
 "nbformat": 4,
 "nbformat_minor": 4
}
