{
 "cells": [
  {
   "cell_type": "markdown",
   "metadata": {},
   "source": [
    "# Príklad: VN kondenzátor\n",
    "\n",
    "Pri konštrukcii vysoko-napäťových zariadení je potrebné zabrániť vzniku koróny na miestach, kde je vysoká intenzita elektrického poľa. Jedno z možných riešení ukazuje nasledujúci príklad - ostrú hranu \"zabalíme\" do miesta s nízkou intenzitou elektrického poľa.\n",
    "\n",
    "**Vytvorenie náčrtu v FreeCAD Sketcher**\n",
    "\n",
    "Sketcher zjednodušuje kreslenie, princíp je založený na vzájomnom kotvení komponentov pomocou rôznych druhov obmedzení tak, aby vo výsledku bol vytvorený náčrt \"pevný\". \n",
    "\n",
    "<img src=\"./img/fc_03.png\" width=550 >\n",
    "\n"
   ]
  },
  {
   "cell_type": "markdown",
   "metadata": {},
   "source": [
    "**FreeCAD PartDesigner, export do gmsh**\n",
    "\n",
    "Náčrt môžeme ďalej upravovať, v našom prípade ho vyexportujeme vo formáte *\\*.brep* pre daľšie spracovanie v *gmsh*. Simulácia kondenzátoras bude v 2D a rotačnej symetrii.\n",
    "\n",
    "<img src=\"./img/fc_04.png\" width=550 >\n"
   ]
  },
  {
   "cell_type": "markdown",
   "metadata": {},
   "source": [
    "**gmsh - vytvorenie siete**\n",
    "\n",
    "Súbor *\\*.brep* obsahuje len logické entity, pre korektne generovanie siete musíme definovať fyzické entity. Skript pre **gmsh** *\\*.geo* má potom tvar\n",
    "\n",
    "    Merge \"elektroda_03.brep\";\n",
    "    Physical Line(\"e1\") = {2,3,4,5,6};         ! cisla segmentov ciar v subore brep\n",
    "    Physical Line(\"e2\") = {12,13,14,15,16};\n",
    "    Physical Line(\"ex\") = {7,8,9,10,11,18};\n",
    "\n",
    "    Line Loop(1) = {2,3,4,5,6,7,8,9,10,11,12,13,14,15,16,18};\n",
    "    Plane Surface(2) = {1};\n",
    "    Physical Surface(\"air\") = {2};\n",
    "\n",
    "Vytvorená sieť je potom len na fyzickej ploche ohranicenej elektrodami.\n",
    "\n",
    "<img src=\"./img/gmsh_04.png\" width=550 >\n"
   ]
  },
  {
   "cell_type": "markdown",
   "metadata": {},
   "source": [
    "**Simulácia**\n",
    "\n",
    "V povelovom súbre simulátora *\\*.sif* musíme deklarovať, že riešenie problému bude v rotačnej symetrii\n",
    "\n",
    "    Simulation\n",
    "      Coordinate System = Axi Symmetric\n",
    "      ...\n",
    "    End\n",
    "    \n",
    "Ostatné časti súboru sú rovnaké ako v prípade rovinného kondenzátora.\n"
   ]
  },
  {
   "cell_type": "markdown",
   "metadata": {},
   "source": [
    "**Post-procesing**\n",
    "\n",
    "Ak chceme znázorniť polia spolu s fyzickým objektom, vygenerujeme si vo FreeCAD-e 3D objekt, exprtujeme ho do **gmsh**, kde si vytvoríme sieť na povrchu objektu a exportujeme ho do formátu *\\*.vtu*.\n",
    "\n",
    "<img src=\"./img/fc_05.png\" width=550 >\n"
   ]
  },
  {
   "cell_type": "markdown",
   "metadata": {},
   "source": [
    "V prograne **ParaView** importujeme výsledok simulácie ako aj 3D vygenerovaný objek. Na znázornenie potenciálových hladín ako aj elektrických siločiar nám stačia len základné filtre programu. Zo simulácie je zrejmé, že na krajoch elektród nie je zvýšená intenzita elektrického poľa a ostrá hrana sa nachádza v mieste s nizkou intenzitou.\n",
    "\n",
    "<img src=\"./img/pw_02.png\" width=550 >\n",
    "\n"
   ]
  }
 ],
 "metadata": {
  "kernelspec": {
   "display_name": "Python 3",
   "language": "python",
   "name": "python3"
  },
  "language_info": {
   "codemirror_mode": {
    "name": "ipython",
    "version": 3
   },
   "file_extension": ".py",
   "mimetype": "text/x-python",
   "name": "python",
   "nbconvert_exporter": "python",
   "pygments_lexer": "ipython3",
   "version": "3.6.7"
  }
 },
 "nbformat": 4,
 "nbformat_minor": 2
}
