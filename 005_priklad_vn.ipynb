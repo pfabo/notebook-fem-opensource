{
 "cells": [
  {
   "cell_type": "markdown",
   "metadata": {},
   "source": [
    "# Príklad: VN kondenzátor\n",
    "\n",
    "Pri konštrukcii vysoko-napäťových zariadení je potrebné zabrániť vzniku koróny na miestach, kde je vysoká intenzita elektrického poľa. Jedno z možných riešení ukazuje nasledujúci príklad - ostrú hranu \"zabalíme\" do miesta s nízkou intenzitou elektrického poľa.\n",
    "\n",
    "## Vytvorenie náčrtu v FreeCad Sketcher\n",
    "\n",
    "Sketcher zjednodušuje kreslenie, princíp je založený na vzájomnom kotvení komponentov pomocou rôznych druhov obmedzení tak, aby vo výsledku bol vytvorený náčrt \"pevný\". \n",
    "\n",
    "<img src=\"./img/fc_03.png\" width=550 alt=\"Náčrt\" scale=\"0.2\">\n",
    "\n"
   ]
  },
  {
   "cell_type": "markdown",
   "metadata": {},
   "source": [
    "## FreeCAD PartDesigner\n",
    "\n",
    "Náčrt môžeme ďalej upravovať, v našom prípade ho vyexportujeme vo formáte *\\*.brep* pre daľšie spracovanie v *gmsh*. Simulácia kondenzátora bude v 2D a rotačnej symetrii.\n",
    "\n",
    "<img src=\"./img/fc_04.png\" width=550  alt=\"Export náčrtu\" scale=\"0.2\">\n"
   ]
  },
  {
   "cell_type": "markdown",
   "metadata": {},
   "source": [
    "## Vytvorenie siete \n",
    "\n",
    "Súbor *\\*.brep* obsahuje len logické entity, pre korektne generovanie siete musíme definovať fyzické entity. Skript pre **gmsh** *\\*.geo* má potom tvar\n",
    "\n",
    "    Merge \"elektroda_03.brep\";\n",
    "    Physical Line(\"e1\") = {2,3,4,5,6};         ! cisla segmentov ciar v subore brep\n",
    "    Physical Line(\"e2\") = {12,13,14,15,16};\n",
    "    Physical Line(\"ex\") = {7,8,9,10,11,18};\n",
    "\n",
    "    Line Loop(1) = {2,3,4,5,6,7,8,9,10,11,12,13,14,15,16,18};\n",
    "    Plane Surface(2) = {1};\n",
    "    Physical Surface(\"air\") = {2};\n",
    "\n",
    "Vytvorená sieť je potom len na fyzickej ploche ohranicenej elektródami.\n",
    "\n",
    "<img src=\"./img/gmsh_04.png\" width=550  alt=\"Vytvorenie siete\" scale=\"0.3\">\n"
   ]
  },
  {
   "cell_type": "markdown",
   "metadata": {},
   "source": [
    "## Simulácia v Elmer\n",
    "\n",
    "V povelovom súbre simulátora *\\*.sif* musíme deklarovať, že riešenie problému bude v rotačnej symetrii\n",
    "\n",
    "    Simulation\n",
    "      Coordinate System = Axi Symmetric\n",
    "      ...\n",
    "    End\n",
    "    \n",
    "Ostatné časti súboru sú rovnaké ako v prípade rovinného kondenzátora.\n"
   ]
  },
  {
   "cell_type": "markdown",
   "metadata": {},
   "source": [
    "## Post-procesing\n",
    "\n",
    "Ak chceme znázorniť polia spolu s fyzickým objektom, vygenerujeme si vo FreeCAD-e 3D objekt, exportujeme ho do *gmsh*, kde si vytvoríme sieť na povrchu objektu a exportujeme ho do formátu *\\*.vtu*.\n",
    "\n",
    "<img src=\"./img/fc_05.png\" width=550  alt=\"3D model\" scale=\"0.2\">\n"
   ]
  },
  {
   "cell_type": "markdown",
   "metadata": {},
   "source": [
    "V programe *ParaView* importujeme výsledok simulácie ako aj 3D vygenerovaný objekt. Na znázornenie potenciálových hladín ako aj elektrických siločiar nám stačia len základné filtre programu. Zo simulácie je zrejmé, že na krajoch elektród nie je zvýšená intenzita elektrického poľa a ostrá hrana sa nachádza v mieste s nizkou intenzitou.\n",
    "\n",
    "<img src=\"./img/pw_02.png\" width=550  alt=\"Vizualizácia simulácie\" scale=\"0.3\">\n",
    "\n"
   ]
  }
 ],
 "metadata": {
  "kernelspec": {
   "display_name": "Python 3",
   "language": "python",
   "name": "python3"
  },
  "language_info": {
   "codemirror_mode": {
    "name": "ipython",
    "version": 3
   },
   "file_extension": ".py",
   "mimetype": "text/x-python",
   "name": "python",
   "nbconvert_exporter": "python",
   "pygments_lexer": "ipython3",
   "version": "3.6.7"
  },
  "latex_envs": {
   "LaTeX_envs_menu_present": true,
   "autoclose": false,
   "autocomplete": true,
   "bibliofile": "biblio.bib",
   "cite_by": "apalike",
   "current_citInitial": 1,
   "eqLabelWithNumbers": true,
   "eqNumInitial": 1,
   "hotkeys": {
    "equation": "Ctrl-E",
    "itemize": "Ctrl-I"
   },
   "labels_anchors": false,
   "latex_user_defs": false,
   "report_style_numbering": false,
   "user_envs_cfg": false
  },
  "varInspector": {
   "cols": {
    "lenName": 16,
    "lenType": 16,
    "lenVar": 40
   },
   "kernels_config": {
    "python": {
     "delete_cmd_postfix": "",
     "delete_cmd_prefix": "del ",
     "library": "var_list.py",
     "varRefreshCmd": "print(var_dic_list())"
    },
    "r": {
     "delete_cmd_postfix": ") ",
     "delete_cmd_prefix": "rm(",
     "library": "var_list.r",
     "varRefreshCmd": "cat(var_dic_list()) "
    }
   },
   "types_to_exclude": [
    "module",
    "function",
    "builtin_function_or_method",
    "instance",
    "_Feature"
   ],
   "window_display": false
  }
 },
 "nbformat": 4,
 "nbformat_minor": 2
}
