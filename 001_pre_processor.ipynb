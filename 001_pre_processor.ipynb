{
 "cells": [
  {
   "cell_type": "markdown",
   "metadata": {},
   "source": [
    "# Pre-Processing\n",
    "\n",
    "Úlohou predprocesora je vytvorenie simulačného modelu, prostredia a vygenerovanie vstupných dát pre simulačné prostredie. Vytvorený model sa často používa po simulácii v post-procesore pri zobrazení výsledkov, pretože výsledkom simulácie bývajú zvyčajne dáta o simulovanom jave (napr. intenzita elektrického poľa) a vlastný model nemusí byť súčasťou týchto dát.      \n",
    "\n",
    "## Vytvorenie modelu pomocou programu *gmsh*\n",
    "\n",
    "[Gmsh](http://gmsh.info/) je 2D/3D generátor siete modelu, je možno ho použiť aj na zobrazenie výsledkov simulácií. Je súčasťou komplexného prostredia [OneLab](http://onelab.info/), v ktorom je integrovaný univerzálny solver pre riešenie problémov. AKtuálne je podľa štatistík (Elmer) najpoužívanejším generátorom v akademickom prostredí (44%).\n",
    "\n",
    "Vytvorenie modelu pozostáva z definovania elementárnych entít - bodov, spojovacích línií, vytvorení plôch a objemov. Na základe elementárnych entít sú definované fyzické skupiny, z ktorých sú potom generované siete pre konečné prvky. Fyzické skupiny môžu pozostávať z viacerých elementárnych entít.\n",
    "\n",
    "Pre vytvorenie modelu môžeme použiť niekoľko postupov, prípadne ich vzájomne kombinovať.\n",
    "\n",
    "### Vytvorenie modelu manuálne v GUI\n",
    "\n",
    "Manuálnym zadaním je vhodné vytvárať len veľmi jednoduché modely pre overenie funkčnosti prostredia (aj keď tvorcovia *gmsh* sú iného názoru), konfigurácií a v pedagogickom procese pri demonštrácii princípov pri vytváraní modelu. "
   ]
  },
  {
   "cell_type": "code",
   "execution_count": 1,
   "metadata": {},
   "outputs": [],
   "source": [
    "import os\n",
    "_ = os.system(\"rm *.geo\")\n",
    "_ = os.system(\"gmsh\")"
   ]
  },
  {
   "cell_type": "markdown",
   "metadata": {},
   "source": [
    "**Postup**\n",
    "\n",
    "* Vytvorenie sústavy bodov\n",
    "  * *Modules -> Geometry -> Elementary entities -> Add -> Point*\n",
    "* Vytvorenie prepojovacích línií - sú orientované (začiatok - koniec)  \n",
    "  * *Modules -> Geometry -> Elementary entities -> Add -> Line*\n",
    "* Vytvorenie plôch - 2D plocha\n",
    "  * *Modules -> Geometry -> Elementary entities -> Add -> Plane surface*\n",
    "  * Referenčným bodom plochy je jej stred\n",
    "  \n",
    "  \n",
    "* Konverzia elementárnej plochy na fyzický komponent (môže pozostávať napr. z viacerých logických plôch a pod.)\n",
    "  * *Modules -> Geometry -> Physical groups -> Add -> Surface*\n",
    "  \n",
    "* Vytvorenie siete\n",
    "  * *Mesh -> Define - 2D*\n",
    "* Zjemnenie siete\n",
    "  * *Mesh -> Define - Refine by splitting*\n",
    "  \n",
    "Výsledok vytvárania modelu a siete sa automaticky zapisuje do súboru *\\*.geo*, ktorý je možné editovať a použiť ako skript (nižšie).\n",
    "\n",
    "**Príklad vygenerovanej siete**\n",
    "\n",
    "<img src=\"./img/gmsh_01.png\" width=450 >"
   ]
  },
  {
   "cell_type": "markdown",
   "metadata": {},
   "source": [
    "### Vytvorenie modelu skriptom\n",
    "\n",
    "*Gmsh* má vlastný skriptovací jazyk pre definovanie modelov, jednotlivé príkazy sa zadávajú do súboru, ktorý sa načíta pri spustení programu. Pri zadaní bodov zárovň definujeme aj hustotu generovanej siete v okolí bodu.\n",
    "\n",
    "**Príklad fragmentu skriptu zo súboru ex_01.geo** \n",
    "\n",
    "    // elementarne entity                                                              \n",
    "    Point(1) = {-10,  10, 0, 1.0};                                // bod x,y,z,hustota siete v okoli bodu\n",
    "    Point(4) = { 10,  10, 0, 1.0};\n",
    "    Line(1) = {1, 4};                                             // usecka z dvoch bodov\n",
    "    Line Loop(5) = {3, 4, 1, 2, 13, 14, 11, 12, 23, 24, 21, 22};  // vytvorenie obrysu - uzatvorenej krivky\n",
    "    Plane Surface(6) = {5};                                       // vytvorenie plochy z obrysu    \n",
    "    ...\n",
    "    \n",
    "    // fyzicke entity\n",
    "    Physical Line(\"e1\") = {11, 14, 13, 12};                       // lomena ciara zlozena z useciek\n",
    "    ..\n",
    "    Physical Surface(\"air\") = {6};                                // fyzicka plocha - moze byt zlozena z viacerych \n",
    "    \n",
    "**Model vygenerovaný skriptom ex_01.geo**\n",
    "\n",
    "<img src=\"./img/gmsh_02.png\" width=450 >"
   ]
  },
  {
   "cell_type": "code",
   "execution_count": 2,
   "metadata": {},
   "outputs": [],
   "source": [
    "_ = os.system(\"gmsh ./data/ex_01.geo\")"
   ]
  },
  {
   "cell_type": "markdown",
   "metadata": {},
   "source": [
    "### Vytvorenie parametrického modelu  skriptom\n",
    "\n",
    "Pre problémy spojené so zmenou parametrov modelu, napríklad pre potreby optimalizácie, je potrebné mať model alebo jeho časi zadané pomocou parametra, ktorý môžeme meniť. Pre generovanie parametrického modelu existujú podporné programy a knižnice, jedným z nich je knižnica [pygmsh](https://pypi.org/project/pygmsh/). \n",
    "\n",
    "V **pygmsh** je možné model vytvoriť pomocou API\n",
    "\n",
    "  * emulujúcich príkazy skriptu *gmsh* (add_point, add_line ...)\n",
    "  * funkcií kompatibilných s [openCASCADE](https://dev.opencascade.org/doc/overview/html/technical_overview.html) (add_ball, add_box ...), tieto sú primárne určené pre modelovanie 3D objektov"
   ]
  },
  {
   "cell_type": "code",
   "execution_count": 3,
   "metadata": {},
   "outputs": [],
   "source": [
    "# Priklad vytvorenie modelu pomocou openCASCADE\n",
    "# Vytvorenie 2D struktury a extrudovanie do 3D modelu\n",
    "\n",
    "import pygmsh\n",
    "\n",
    "geom = pygmsh.opencascade.Geometry(\n",
    "  characteristic_length_min=0.1,\n",
    "  characteristic_length_max=0.1,\n",
    "  )\n",
    "\n",
    "# Vytvorenie 2D objektov na ploche\n",
    "rectangle = geom.add_rectangle([-1.0, -1.0, 0.0], 2.0, 2.0)\n",
    "disk1 = geom.add_disk([-1.2, 0.0, 0.0], 0.5)\n",
    "disk2 = geom.add_disk([+1.2, 0.0, 0.0], 0.5)\n",
    "union = geom.boolean_union([rectangle, disk1, disk2])\n",
    "\n",
    "disk3 = geom.add_disk([0.0, -0.9, 0.0], 0.5)\n",
    "disk4 = geom.add_disk([0.0, +0.9, 0.0], 0.5, char_length=0.1)\n",
    "flat = geom.boolean_difference([union], [disk3, disk4])\n",
    "\n",
    "# Vytvorenie 3D objektu\n",
    "geom.extrude(flat, [0, 0, 0.3])\n",
    "\n",
    "# zapis vygenerovaneho objektu v gmsh formate \n",
    "fd = open('./data/ex_02.geo', 'w')\n",
    "fd.write(geom.get_code())\n",
    "fd.close()\n",
    "\n",
    "# vygenerovanie siete a zapis do suboru *.msh \n",
    "points, cells, point_data, cell_data, field_data = pygmsh.generate_mesh(geom, verbose=False)"
   ]
  },
  {
   "cell_type": "code",
   "execution_count": 4,
   "metadata": {},
   "outputs": [],
   "source": [
    "# zobrazenie vygenerovaneho *.geo suboru\n",
    "_ = os.system(\"gmsh ./data/ex_02.geo\")"
   ]
  },
  {
   "cell_type": "code",
   "execution_count": 5,
   "metadata": {},
   "outputs": [],
   "source": [
    "# zobrazenie vygenerovanej siete\n",
    "# !!! mriezka neobsahuje fyzicke entity \n",
    "_ = os.system(\"gmsh ./data/ex_02.msh\")"
   ]
  },
  {
   "cell_type": "markdown",
   "metadata": {},
   "source": [
    "**Model vygenerovaný skriptom**\n",
    "\n",
    "<img src=\"./img/gmsh_03.png\" width=450 >\n",
    "\n",
    "V *gmsh* môžeme vytvoriť sieť a objekt exportovať do formátu [*VTK*](http://www.cacr.caltech.edu/~slombey/asci/vtk/vtk_formats.simple.html) (*Visualisation Toolkit*), ktorý vie načítať program pre pos-processing [*ParaView*](https://www.paraview.org/)."
   ]
  },
  {
   "cell_type": "code",
   "execution_count": 6,
   "metadata": {},
   "outputs": [],
   "source": [
    "_ = os.system(\"paraview ./data/ex_02.vtk\")"
   ]
  },
  {
   "cell_type": "markdown",
   "metadata": {},
   "source": [
    "**Zobrazenie modelu v ParaView**\n",
    "\n",
    "<img src=\"./img/para_01.png\" width=450 >"
   ]
  },
  {
   "cell_type": "markdown",
   "metadata": {},
   "source": [
    "## Tvorba modelu pomocou CAD programov\n",
    "\n",
    "Komplexnejšie modely je možné tvoriť pomocou open-source CAD programov, FreeCAD poskytuje aj možnosť skriptovania modelu v Pythone. Typ modelu závisí od predpokladaného typu simulácie, napr. pre simuláciu elektrostatického poľa - kde nás zaujíma tvar elektrického poľa v prostredí - vytvárame model v tvare dutín v prostredí, kde jednotlivé plochy dutín reprezentujú elekródy so stanoveným potenciálom alebo okrajové podmienky.\n",
    "\n",
    "**Vytvorenie modelu vo FreeCAD**\n",
    "\n",
    "<img src=\"./img/fc_01.png\" width=450 >"
   ]
  },
  {
   "cell_type": "code",
   "execution_count": 7,
   "metadata": {},
   "outputs": [],
   "source": [
    "_ = os.system(\"freecad ./data/ex_03.fcstd\")"
   ]
  },
  {
   "cell_type": "markdown",
   "metadata": {},
   "source": [
    "Vo FreeCad-e exportujeme model vo formáte BREP, ktorý vie čítať generátor mriežky *gmsh*. "
   ]
  },
  {
   "cell_type": "code",
   "execution_count": 8,
   "metadata": {},
   "outputs": [],
   "source": [
    "_ = os.system(\"gmsh ./data/ex_03.brep\")"
   ]
  },
  {
   "cell_type": "markdown",
   "metadata": {},
   "source": [
    "Súbor *\\*.brep* obsahuje model rozložený na elementárne entity, neobsahuje ale fyzické entity. Mená objektov z FreeCAD-u nie sú súčasťou formátu *\\*.brep* (a zrejme by to prinášalo problémy), preto musíme jednotlivé fyzické entity \"poskladať\" ručne - doplnením do súboru *\\*.geo*. \n",
    "\n",
    "Zásadným rozdielom medzi elementárnou a fyzickou entitou je tem, že jedna fyzická entita (napr. elektróda, zemná plocha atď.) môže byž poskladaná z viacerých fyzických entít. \n",
    "\n",
    "Naopak - jeden objekt v CAD-e (napr. valec) môže (ako sústava 3 entít - dno, dekel, plášť) reprezentovať samostatné fyzické entity (2 elektródy spojené izolátorom).\n",
    "\n",
    "**Súbor ex_03.geo**    \n",
    "\n",
    "Do súboru importujeme vygenerovaný súbor *ex_03.brep* a doplníme definície fyzických entít. Nepríjemné je hlavne určenie jednotlivých plôch objektov, naštastie sú generované v jednotlivých objektoch v poradí a pomôcť si môžeme aj zobrazením označenia entít v *gmsh*. \n",
    "    \n",
    "    Merge \"exp_03.brep\";\n",
    "    Physical Volume(\"air\") = {1};\n",
    "\n",
    "    Physical Surface(\"s2\")  = {7,8,9};\n",
    "    Physical Surface(\"q1\")  = {10,11,12};\n",
    "    Physical Surface(\"ext\") = {1,2,3,4,5,6};"
   ]
  },
  {
   "cell_type": "code",
   "execution_count": 9,
   "metadata": {},
   "outputs": [],
   "source": [
    "_ = os.system(\"gmsh ./data/ex_03.geo\")"
   ]
  },
  {
   "cell_type": "markdown",
   "metadata": {},
   "source": [
    "## Generovanie siete\n",
    "\n",
    "V program *gmsh* môžeme vytvárať mriežku podľa potreby jej zjemnením, vyhladením a pod. Program (ver. 4.0 a vyššia) automaticky pri ukladaní zvolí formát mriežky vo verzii 4, ktorú simulačný engine ElmerCSC (zatiaľ) nepozná, preto je potrebné pri ukladaní zvoliť export mriežky vo formáte 2.0 (ASCII 2).\n",
    "\n",
    "Vygenerovanú sieť môžeme skontrolovať v grafickom rozhraní ElmerGUI (s obmedzeniami ...).\n",
    "\n",
    "<img src=\"./img/elmer_01.png\" width=450 >"
   ]
  },
  {
   "cell_type": "markdown",
   "metadata": {},
   "source": [
    "## Generovanie siete skriptom\n",
    "\n",
    "Pri častejších zmenách modelu je ručné opakované generovanie mriežky nepríjemné, môžeme si pomôcť vygenerovaním siete priamo v súbore *\\*.geo* \n",
    "\n",
    "**Súbor ex_04.geo** \n",
    "\n",
    "    Merge \"ex_03.brep\";\n",
    "    Physical Volume(\"air\") = {1};\n",
    "\n",
    "    Physical Surface(\"s2\")  = {7,8,9};\n",
    "    Physical Surface(\"q1\")  = {10,11,12};\n",
    "    Physical Surface(\"ext\") = {1,2,3,4,5,6};\n",
    "\n",
    "    Mesh 3;\n",
    "    RefineMesh;\n",
    "    RefineMesh;\n",
    "    \n",
    "sieť vygenerujeme a zapíšeme v správnom formáte v povelovom riadku príkazom\n",
    "\n",
    "     gmsh ex_04.geo -3 -format msh2 -save_all -o ex_04.msh "
   ]
  }
 ],
 "metadata": {
  "kernelspec": {
   "display_name": "Python 3",
   "language": "python",
   "name": "python3"
  },
  "language_info": {
   "codemirror_mode": {
    "name": "ipython",
    "version": 3
   },
   "file_extension": ".py",
   "mimetype": "text/x-python",
   "name": "python",
   "nbconvert_exporter": "python",
   "pygments_lexer": "ipython3",
   "version": "3.6.7"
  },
  "latex_envs": {
   "LaTeX_envs_menu_present": true,
   "autoclose": false,
   "autocomplete": true,
   "bibliofile": "biblio.bib",
   "cite_by": "apalike",
   "current_citInitial": 1,
   "eqLabelWithNumbers": true,
   "eqNumInitial": 1,
   "hotkeys": {
    "equation": "Ctrl-E",
    "itemize": "Ctrl-I"
   },
   "labels_anchors": false,
   "latex_user_defs": false,
   "report_style_numbering": false,
   "user_envs_cfg": false
  },
  "varInspector": {
   "cols": {
    "lenName": 16,
    "lenType": 16,
    "lenVar": 40
   },
   "kernels_config": {
    "python": {
     "delete_cmd_postfix": "",
     "delete_cmd_prefix": "del ",
     "library": "var_list.py",
     "varRefreshCmd": "print(var_dic_list())"
    },
    "r": {
     "delete_cmd_postfix": ") ",
     "delete_cmd_prefix": "rm(",
     "library": "var_list.r",
     "varRefreshCmd": "cat(var_dic_list()) "
    }
   },
   "types_to_exclude": [
    "module",
    "function",
    "builtin_function_or_method",
    "instance",
    "_Feature"
   ],
   "window_display": false
  }
 },
 "nbformat": 4,
 "nbformat_minor": 2
}
