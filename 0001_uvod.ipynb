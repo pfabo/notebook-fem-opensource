{
 "cells": [
  {
   "cell_type": "markdown",
   "metadata": {
    "tags": []
   },
   "source": [
    "# <font color='navy'> <b> Open-Source nástroje pre FEM </b></font>\n",
    "\n",
    "Seminár je venovaný prehľadu open-source nástrojov použiteľných pre FEM simulácie v akademickom prostredí. \n",
    "\n",
    "## <font color='teal'> <b> Obsah semináru </b></font>\n",
    "\n",
    "  * Inštalácia simulačného prostredia\n",
    "  * Metódy tvorby modelov a generovanie mriežky\n",
    "  * Nastavenie parametrov simulácie a jej spustenie, kontrola priebehu simulácie\n",
    "  * Vizualizácia výsledkov simulácie\n",
    "  * Výmena dát medzi programami, používané formáty\n",
    "  * Príklady\n",
    "\n",
    "## <font color='teal'> <b> Podklady k semináru </b></font>\n",
    "\n",
    "Zdrojové texty semináru vo formáte Jupyter-Notebook su dostupné na \n",
    "\n",
    "    https://github.com/pfabo/notebook-fem-opensource\n",
    "\n",
    "## <font color='teal'> <b> Použitý software </b></font>\n",
    "\n",
    "V rámci semináru sú použité nasledujúce programy a nástroje.\n",
    "\n",
    "  * [Jupyter Notebook](http://jupyter.org/index.html)\n",
    "  * [Gmsh](http://gmsh.info/)\n",
    "  * [Elmer-CSC](https://www.csc.fi/web/elmer)\n",
    "  * [ParaView](https://www.paraview.org/)\n",
    "  * [FreeCAD](https://www.freecadweb.org/)\n",
    "  * [pyvista](https://docs.pyvista.org/)\n",
    "  \n",
    "Programy sú prioritne vytvorené a kompilované pre OS Linux a štandardne sa nachádzajú v repozitároch distribúcií. Pretože do repozitárov distribúcií sa balíky zaraďujú s nejakým časovým odstupom, pre aktuálne verzie je lepšie použiť návod na inštaláciu resp. stiahnutie skompilovaných verzií priamo na stránkach projektov (inštalácia cez ppa, pip a pod.). \n",
    "\n",
    "## <font color='teal'> <b> Demo </b></font>\n",
    "\n",
    "Na úvod krátka ukážka využitia open-source nástrojov pre FEM simuláciu elektrostatického problému - výpočtu elektrického poľa dvoch nabitých vodivých valcov. 3D model problému vytvorený v programe *FreeCAD*, generátor siete *gsmh* vygeneroval sieť povrchov objektov, simulácia polí bola spočítaná v programe Elmer-CSC. Výsledok simulácie bol vizualizovaný pomocou programu *ParaView*.\n",
    "\n",
    "### <font color='purple'> <b> Vytvorenie modelu vo *FreeCAD* </b></font>\n",
    "\n",
    "<img src=\"./img/sim_00.png\" width=\"600\">\n",
    "\n",
    "### <font color='purple'> <b> Vytvorenie mriežky v *gsmh* </b></font>\n",
    "\n",
    "<img src=\"./img/sim_02.png\" width=\"600\">\n",
    "\n",
    "### <font color='purple'> <b> Vizualizácia simulácie v *Paraview* </b></font>\n",
    "\n",
    "<img src=\"./img/sim_01.png\" width=\"600\">\n",
    "\n",
    "-------------"
   ]
  }
 ],
 "metadata": {
  "kernelspec": {
   "display_name": "Python 3 (ipykernel)",
   "language": "python",
   "name": "python3"
  },
  "language_info": {
   "codemirror_mode": {
    "name": "ipython",
    "version": 3
   },
   "file_extension": ".py",
   "mimetype": "text/x-python",
   "name": "python",
   "nbconvert_exporter": "python",
   "pygments_lexer": "ipython3",
   "version": "3.13.1"
  },
  "latex_envs": {
   "LaTeX_envs_menu_present": true,
   "autoclose": false,
   "autocomplete": true,
   "bibliofile": "biblio.bib",
   "cite_by": "apalike",
   "current_citInitial": 1,
   "eqLabelWithNumbers": true,
   "eqNumInitial": 1,
   "hotkeys": {
    "equation": "Ctrl-E",
    "itemize": "Ctrl-I"
   },
   "labels_anchors": false,
   "latex_user_defs": false,
   "report_style_numbering": false,
   "user_envs_cfg": false
  },
  "varInspector": {
   "cols": {
    "lenName": 16,
    "lenType": 16,
    "lenVar": 40
   },
   "kernels_config": {
    "python": {
     "delete_cmd_postfix": "",
     "delete_cmd_prefix": "del ",
     "library": "var_list.py",
     "varRefreshCmd": "print(var_dic_list())"
    },
    "r": {
     "delete_cmd_postfix": ") ",
     "delete_cmd_prefix": "rm(",
     "library": "var_list.r",
     "varRefreshCmd": "cat(var_dic_list()) "
    }
   },
   "types_to_exclude": [
    "module",
    "function",
    "builtin_function_or_method",
    "instance",
    "_Feature"
   ],
   "window_display": false
  }
 },
 "nbformat": 4,
 "nbformat_minor": 4
}
