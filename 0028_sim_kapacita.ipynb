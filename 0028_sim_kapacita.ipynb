{
 "cells": [
  {
   "cell_type": "markdown",
   "metadata": {},
   "source": [
    "# <font color='navy'> <b> Porovnanie analytického výpočtu a FEM simulácie </b></font>\n",
    "\n",
    "Pre testy a kontrolu nastavenia podmienok simulácie je vhodné porovnanie parametrov simulovaných modelov s parametrami získanými analytickými postupmi.\n",
    "\n",
    "## <font color='teal'> <b> Príklad 4. Kapacita dvoch vodivých gulí</b></font>\n",
    "\n",
    "Úlohou je vypočítať vlastnú a vzájomnú kapacitu dvoch vodivých gulí analytickým postupom a porovnať výsledky s FEM simuláciou.\n",
    "\n",
    "Predpokladajme, že máme dve vodivé gule A, B s rovnakým priemerom $r_1 = r_2$, stredy ktorých sú od seba vzdialené $d$, jedna z gulí sa nachádza v počiatku súradnicovej sústavy. Vzťah pre kapacitu odvodíme metódou zrkadlenia náboja. \n",
    "\n",
    "<img src=\"./img/c1.png\" width=\"600\">"
   ]
  },
  {
   "cell_type": "markdown",
   "metadata": {},
   "source": [
    "### <font color='teal'> <b> Teoretické odvodenie </b></font>\n",
    "\n",
    "Pre kapacitu ľubovolného vodivého objektu platí všeobecný vzťah\n",
    "\n",
    "\\begin{equation*}\n",
    "C = \\frac{q} {\\phi}\n",
    "\\end{equation*}\n",
    "\n",
    "ktorý deklaruje kapacitu ako schopnosť telesa zhromažďovať náboj. Ak sa na teleso dostane nejaký náboj $q$, tak jeho potenciál bude mať hodnotu $\\phi$ voči referenčnému nulovému potenciálu v nekonečne, ale na nulovom potenciáli môže byť aj nejaké iné teleso. Potenciál je ekvivalentom práce, ktorú musíme vynaložiť na to, aby sme na teleso prepravili jednotkový náboj z bodu s nulovým potenciálom.\n",
    "\n",
    "V našom príklade budeme preto hľadať *vzájomnú kapacitu* gule A voči uzemnenej guli B a jej *vlastnú kapacitu* voči nulovému potenciálu v nekonečne.\n",
    "\n",
    "### <font color='purple'> <b>  Potenciál na povrchu nabitej gule</b></font>\n",
    "\n",
    "Potenciál na povrchu vodivej nabitej gule je rovnaký, ako potenciál bodového náboja umiestneného v jej strede vo vzdialenosti rovnej polomeru gule. Ak preto do začiatku súradnicovej sústavy umiesnime bodový náboj $q$, vo vzdialenosti $r_1$ bude potenciál daný vzťahom\n",
    "\n",
    "\\begin{equation*}\n",
    "\\phi(r) = \\frac{1}{4 \\pi \\epsilon_0} \\frac{q}{r_1}\n",
    "\\end{equation*}\n",
    "\n",
    "Princíp riešenia úlohy spočíva v tom, že musíme nájsť takú konfiguráciu nábojov (veľkosť, poloha), ktorá vytvoria guloplochu o priemere $r_1$ s potenciálom $\\phi$ so stredom v počiatku súradnicovej sústavy a druhú guloplochu o priemere $r_2$ a stredom vzdialenm o $d$ od počiatku s nulovým poteciálom. Pretože ide o nesymetrické usporiadanie gulí vzhľadom k počiatku súradnicovej sústavy, je zrejmé, že náboje nebudú umiestnené v strede gulí.  "
   ]
  },
  {
   "cell_type": "markdown",
   "metadata": {},
   "source": [
    "### <font color='purple'> <b> Metóda zrkadlenia náboja</b></font>\n",
    "\n",
    "\n",
    "Do priestoru bez gulí do miesta kde by sa nachádzal stred gule A, t.j. v počiatku súradnicovej sústavy umiestnime náboj $q$. Tento okolo seba vytvorí elektrostatické pole, ktorého intenzita vo vzdialenosti $r_1$ bude rovnaká ako na povrchu vodivej guli s rovnakým polomerom nabitej rovnakým nábojom. Veľkosť náboja je určená zadaným potenciálom a priemerom gule.   \n",
    "\n",
    "\\begin{equation*}\n",
    "q =  {4 \\pi \\epsilon_0} \\, \\phi(r) \\, {r_1}\n",
    "\\end{equation*}\n",
    "\n",
    "Niekde v blízkosti miesta, kde by sa nachádzal stred gule B umiestnime teraz (neznámy) náboj $q'$ tak, aby tento vytvoril okolo seba guloplochu s nulovým potenciálom priemerom pôvodnej gule B, ktorá by bola ekvivalentom uzemnenej gule B. Intuitívne je zrejmé, že náboj $q'$ bude musieť mať **opačnú** polaritu ako náboj $q$. Hladanými  veličinami sú veľkosť náboja $q'$ a jeho poloha."
   ]
  },
  {
   "cell_type": "markdown",
   "metadata": {},
   "source": [
    "### <font color='purple'> <b> Guloplocha s nulovým potenciálom </b></font>\n",
    "\n",
    "<img src=\"./img/c2.png\" width=\"600\">"
   ]
  },
  {
   "cell_type": "markdown",
   "metadata": {},
   "source": [
    "Pre potenciál množiny nábojov platí princíp superpozície, takže pre hodnoty potenciálu v bodoch P1 a P2, ktoré sa nachádzajú na hladanej guloploche s nulovým potenciálom, platí\n",
    "\n",
    "\\begin{equation*}\n",
    "\\phi(P1) = \\frac{1}{4 \\pi \\epsilon_0} \\frac{q}{r + d} + \\frac{1}{4 \\pi \\epsilon_0} \\frac{q{'}}{r + d{'}} = 0\n",
    "\\end{equation*}\n",
    "\n",
    "Po úprave dostaneme pre body P1 a  P2 sústavu rovníc, z ktorej vieme určiť hodnotu náboja $q{'}$ a jeho polohu $d{'}$\n",
    "\n",
    "\\begin{align}\n",
    "P1: \\quad &\\, \\frac{q}{d+r} + \\frac{q{'}}{r+d{'}} = 0 \\\\\n",
    "P2: \\quad &\\, \\frac{q}{d-r} + \\frac{q{'}}{r-d{'}} = 0 \\\\\n",
    "\\end{align}\n",
    "\n",
    "Triviálnou úpravou rovníc dostaneme sústavu\n",
    "\\begin{align*}\n",
    "2 q r + 2 q{'} d = 0 \\\\\n",
    "2 q d{'} +  2 q{'} r = 0 \\\\\n",
    "\\end{align*}\n",
    "\n",
    "ktorej riešením je\n",
    "\\begin{equation}\n",
    "q{'} = - \\frac{r}{d} \\, q \\qquad d{'} = - q{'} \\, \\frac{r}{q} = \\frac{r^2}{d}\n",
    "\\end{equation}"
   ]
  },
  {
   "cell_type": "markdown",
   "metadata": {},
   "source": [
    "Je zrejmé, že pole záporného náboja  $q'$ zrejme zdeformovalo ekvipotenciálne hladiny v okolí kladného náboja $q$ a tieto už asi nebudú mať gulová tvar. Túto deformáciu  môžeme kompenzovať novým (kladným) nábojom $q''$, umiestneným niekde v blízkosti stredu gule A, počiatku súradnicovej sústavy. \n",
    "Dôležité je to, že náboj $q''$ slúži pre korekciu tvaru plochy, **potenciál v mieste korigovanej guloplochy zostáva rovnaký** ako na začiatku, pred umiestnením náboja $q'$.\n",
    "\n",
    "Ak teraz odstránime pôvodný náboj $q$, dostaneme pododobnú situáciu ako v predchádzajúcom prípade a budeme požadovať, aby sa v mieste gule A nachádzala guloplocha s nulovým potenciálom.\n",
    "\n",
    "### <font color='purple'> <b> Korekcia náboja </b></font>\n",
    "\n",
    "<img src=\"./img/c3.png\" width=\"600\">"
   ]
  },
  {
   "cell_type": "markdown",
   "metadata": {},
   "source": [
    "Pre potenciál v bodoch P3 a P4 potom obdobne platí\n",
    "\\begin{align*}\n",
    "P3: \\quad &\\, \\frac{q''}{r+d''} + \\frac{q{'}}{x+r} = 0 \\\\\n",
    "P4: \\quad &\\, \\frac{q''}{r-d''} + \\frac{q{'}}{x-r} = 0 \\\\\n",
    "\\end{align*}\n",
    "\n",
    "kde\n",
    "\n",
    "\\begin{equation*}\n",
    "x = d-d' = d - \\frac{r^2}{d} = \\frac{1}{d} (d^2 - r^2) \n",
    "\\end{equation*}\n",
    "\n",
    "Riešením sústavy dostaneme\n",
    "\\begin{equation}\n",
    "q{''} = - \\frac{r}{x} q' = \\frac{r^2}{d^2-r^2}q \\qquad d'' = - \\frac{q'' r}{q'} = \\frac{r^2}{d-\\frac{r^2}{d}}\n",
    "\\end{equation}"
   ]
  },
  {
   "cell_type": "markdown",
   "metadata": {},
   "source": [
    "Doplnením náboja $q''$ do sústavu sa ale zase zmenilo pole v okolí náboja $q'$, čo môžeme zase kompenzovať ďaľším nábojom $q'''$ atď. \n",
    "\n",
    "Polohy a veľkosti nábojov dostaneme opakovaním predchádajúceho postupu, je zrejmé, že hodnoty nábojov a ich vzdialeností tvoria nekonečnú postupnosť. Niekoľko členov postupnosti pre veľkosti a polohy nábojov pre pravú a lavú gulu je uvedených v nasledujúcich tabuľkách:\\\\\n",
    "\n",
    "\n",
    "**Lavá gula (A)**\n",
    "\n",
    "\\begin{align*}\n",
    "&\\textrm{Náboj}   \\,\\,\\,\\,&   &\\textrm{Vzdialenosť}  \\\\\n",
    "&q                \\,\\,\\,\\,&   &0\\\\\n",
    "\\\\\n",
    "&\\displaystyle q'' = \\frac{\\displaystyle r^2}{\\displaystyle d^2-r^2} \\, q            \\,\\,\\,\\,& \n",
    "&\\displaystyle d''=  \\frac{\\displaystyle r^2}{\\displaystyle d - \\frac{r^2}{d}} \\\\\n",
    "\\\\\n",
    "&\\displaystyle q'''' = \\frac{\\displaystyle r^4}{\\displaystyle d^4-3d^2r^2+r^4} \\, q  \\,\\,\\,\\,& \n",
    "&\\displaystyle d'''' = \\frac{\\displaystyle r^2}{\\displaystyle d - \\frac{r^2}{\\displaystyle d-\\frac{r^2} {\\displaystyle d-\\frac{r^2}{d}}}}\n",
    "\\end{align*}"
   ]
  },
  {
   "cell_type": "markdown",
   "metadata": {},
   "source": [
    "\n",
    "**Pravá gula (B)**\n",
    "\n",
    "\\begin{align*}\n",
    "&\\textrm{Náboj}   \\,\\,\\,\\,&   &\\textrm{Vzdialenosť}  \\\\\n",
    "&q' = - \\frac{\\displaystyle r}{\\displaystyle d} \\, q  \\,\\,\\,\\,&  &d'= \\frac{\\displaystyle r^2}{\\displaystyle d} \\\\  \n",
    "\\\\\n",
    "&q'''=-\\frac{\\displaystyle r^2}{\\displaystyle d^2-r^2} \\frac{\\displaystyle r}{\\displaystyle d} \\, q \\,\\,\\,\\,&\n",
    "&d'''= \\frac{\\displaystyle r^2}{\\displaystyle d - \\frac{\\displaystyle r^2}{\\displaystyle d-\\frac{\\displaystyle r^2}{\\displaystyle d}}}\n",
    "\\\\\n",
    "&q'''''=-\\frac{\\displaystyle r^4}{\\displaystyle d^4-4d^2r^2+3r^4} \\frac{\\displaystyle r}{\\displaystyle d} q  \\,\\,\\,\\,&\n",
    "&d'''''= \\frac{\\displaystyle r^2}{\\displaystyle d - \\frac{r^2}{\\displaystyle d-\\frac{r^2}{\\displaystyle d-\\frac{r^2}{\\displaystyle d-\\frac{r^2}{d}}}}}\n",
    "\\end{align*}"
   ]
  },
  {
   "cell_type": "markdown",
   "metadata": {},
   "source": [
    "### <font color='purple'> <b> Simulácia ekvipotenciálnych hladín v 2D </b></font>\n",
    "\n",
    "Zjednodušená simulácia potenciálu v okolí bodových nábojov $q$ a $q'$ bola použitá najmä na odhad potrebného rozmeru simulovaného priestoru s ohľadom na okrajové pomienky. Červeno je vyznačená nulová potenciálová hladina.  \n",
    "\n",
    "<img src=\"./img/s2.png\" width=\"600\">\n",
    "\n",
    "<img src=\"./img/s1.png\" width=\"600\">"
   ]
  },
  {
   "cell_type": "markdown",
   "metadata": {},
   "source": [
    "### <font color='teal'> <b> Numerický výpočet potenciálu  </b></font>\n",
    "\n",
    "Numerický vypočet priebehu potenciálu pri postupných iteráciách hodnôt a polôh nábojov."
   ]
  },
  {
   "cell_type": "code",
   "execution_count": 38,
   "metadata": {},
   "outputs": [
    {
     "data": {
      "image/png": "[encoded data removed]",
      "text/plain": [
       "<Figure size 640x480 with 1 Axes>"
      ]
     },
     "metadata": {},
     "output_type": "display_data"
    }
   ],
   "source": [
    "from numpy import *\n",
    "from scipy.constants import epsilon_0 \n",
    "import pylab as plt\n",
    "\n",
    "q=4*pi*epsilon_0 * 0.5 #  0.5e-10   # [C] charge\n",
    "r=0.4     # [m] sphere diameter\n",
    "d=2.0     # [m] distance between center of spheres\n",
    "\n",
    "k = r/d; w=r**2/d\n",
    "q0 = q                   # q\n",
    "d0 = 0.0\n",
    "\n",
    "q1 = -k*q                # q'\n",
    "d1 = d-w \n",
    "\n",
    "q2 = w/(d-w)*q           # q''\n",
    "d2 = r**2/(d-w)\n",
    "\n",
    "q3 = -w/(d-2*w)*k*q      # q'''\n",
    "d3 = d-r**2/(d-r**2/(d-w))\n",
    "\n",
    "def phi(q, d, x):\n",
    "    q=q/(4*pi*8.854e-12)\n",
    "    if d==x:\n",
    "        if x<d1+d2/2.:\n",
    "            return 1e6\n",
    "        else:\n",
    "            return -1e6\n",
    "    if d>x:\n",
    "        return q/(d-x)\n",
    "    else:\n",
    "        return -q/(d-x)\n",
    "    \n",
    "x=[]; p0=[]; p1=[]; p2=[]; p3=[]\n",
    "step=0.001\n",
    "for k in arange(d0-1, d3+1.5, step):\n",
    "    x.append(k)\n",
    "    s1=phi(q0, d0, k)\n",
    "    s2=phi(q1, d1, k)\n",
    "    s3=phi(q2, d2, k)\n",
    "    s4=phi(q3, d3, k)\n",
    "    \n",
    "    s=s1;   p0.append(s)\n",
    "    s=s+s2; p1.append(s)\n",
    "    s=s+s3; p2.append(s)\n",
    "    s=s+s4; p3.append(s)\n",
    "\n",
    "plt.plot(x,p0,'b:', label=r\"$q$\")\n",
    "plt.plot(x,p1,'r',  label=r\"$q+q^{'}$\")\n",
    "plt.plot(x,p3,'y', label=r\"$q+q^{'}+q^{''}+q^{'''}$\")\n",
    "plt.plot([-1,3], [0,0], 'r', alpha=0.4)\n",
    "plt.plot([0,0], [-5,5], 'r', alpha=0.4)\n",
    "\n",
    "plt.plot([1.5,2.5], [0,0], 'b', linewidth=3, alpha=0.3)\n",
    "plt.plot([-0.5,0.5], [1, 1], 'g', linewidth=3, alpha= 0.3)\n",
    "\n",
    "plt.text(1.8, -0.35,  '2r', color='blue')\n",
    "plt.text(0.1, 1.25,  '2r', color='green')\n",
    "\n",
    "plt.xlabel(r'$x\\, [m]$')\n",
    "plt.ylabel(r'$Potential \\,\\,\\, U\\,[V]$')\n",
    "plt.ylim(-5.0, 5.0)\n",
    "plt.xlim(-1, 3)\n",
    "plt.legend()\n",
    "plt.grid()\n",
    "plt.show()"
   ]
  },
  {
   "cell_type": "markdown",
   "metadata": {},
   "source": [
    "## <font color='teal'> <b> Výpočet kapacity </b></font>\n",
    "\n",
    "Výsledný celkový náboj lavej gule A je \n",
    "\n",
    "\\begin{equation*}\n",
    "q_{sum} = q + q'' + q'''' \\dots = q \\left( 1 + \\frac{r^2}{d^2-r^2} + \\frac{r^4}{d^4-3d^2r^2+r^4}  + \\dots \\right) \n",
    "\\end{equation*}\n",
    "\n",
    "a jej celková kapacita je potom\n",
    "\n",
    "\\begin{equation*}\n",
    "C_{sum} = \\frac{q}{\\phi} = \\frac{q}{\\frac{\\displaystyle q}{\\displaystyle 4 \\pi \\epsilon_0 r}} = 4 \\pi \\epsilon_0 \\, r  \\left( 1 + \\frac{r^2}{d^2-r^2} + \\frac{r^4}{d^4-3d^2r^2+r^4}  + \\dots \\right) \n",
    "\\end{equation*}\n"
   ]
  },
  {
   "cell_type": "markdown",
   "metadata": {},
   "source": [
    "Celková kapacita pozostáva z dvoch častí, z kapacity voči nulovému potenciálu v nekonečne a kapacite voči druhej guli. Vzájomná kapacita je úmerná indukovanému náboju gule B na guli A, pretože veľkosť náboja gule B poznáme, môžeme náboj na guli A rozdeliť\n",
    "\n",
    "\\begin{align*}\n",
    "C_{sum} &= C_{gnd} + C_{mut} = \\frac{q - q' + q''- q ''' + q'''' + \\dots + q' + q''' - \\dots  }{\\phi} =\n",
    "\\\\\n",
    "&= 4 \\pi \\epsilon_0 \\, r  \\left( 1 -\\frac{r}{d} + \\frac{r^2}{d^2-r^2} -  \\frac{r^2}{d^2-r^2} \\frac{r}{d} + \\frac{r^4}{d^4-3d^2r^2+r^4}  - \\frac{r^4}{d^4-4d^2r^2+3r^4} \\frac{r}{d} + \\dots \\right) +\n",
    "\\\\\n",
    "&+ 4 \\pi \\epsilon_0 \\, r  \\left(\\frac{r}{d} +  \\frac{r^2}{d^2-r^2} \\frac{r}{d} + \\frac{r^4}{d^4-4d^2r^2+3r^4} \\frac{r}{d}  + \\dots \\right) \n",
    "\\end{align*}"
   ]
  },
  {
   "cell_type": "markdown",
   "metadata": {},
   "source": [
    "Na základe vyššie uvedených vzťahov môžeme spočítať hodnotu kapacity (pre prvé tri členy radov) s hodnotami\n",
    "\n",
    "  - $r = 0.5 \\,[m]$ - polomer gulí\n",
    "  - $d = 2.0\\, [m]$ - vzdialenosť stredov gulí  "
   ]
  },
  {
   "cell_type": "code",
   "execution_count": 41,
   "metadata": {},
   "outputs": [
    {
     "name": "stdout",
     "output_type": "stream",
     "text": [
      "C12 = 14.972907573290463 [pF]\n",
      "C10 = 46.42671205015176 [pF]\n"
     ]
    }
   ],
   "source": [
    "eps = 8.8542e-12 # F/m\n",
    "\n",
    "def C12(a,d):\n",
    "    # vzajomna kapacita\n",
    "    c = 4*pi*eps*(a**2)/d*(1 + a**2/(d**2 - 2*(a**2)) + \\\n",
    "        (a**4)/(d**4 - 4*(d**2)*(a**2) + 3*(a**4)) )\n",
    "    return c\n",
    "        \n",
    "def C10(a,d):\n",
    "    # vlastna kapacita\n",
    "    c = 4*pi*eps*a*(1 - a/d + a**2/(d**2 - (a**2)) + \\\n",
    "    (a**3)/(d**3 - 2*d*(a**2)))\n",
    "    return c\n",
    "\n",
    "print('C12 =', C12(.5, 2.) * 1e12, '[pF]')\n",
    "print('C10 =', C10(.5, 2.) * 1e12, '[pF]')"
   ]
  },
  {
   "cell_type": "markdown",
   "metadata": {},
   "source": [
    "## <font color='teal'> <b> FEM Simulácia </b></font>\n",
    "\n",
    "Pri simulácii príkladu pomocou FEM postupujeme štandardne, vytvoríme model (FreeCAD, gmsh ...) a vygenerujeme mriežku.\n",
    "\n",
    "<img src=\"./img/s6.png\" width=\"600\">"
   ]
  },
  {
   "cell_type": "markdown",
   "metadata": {},
   "source": [
    "V povelovom súbore simulácie definujeme výpočet kapacitnej matice a v okrajových podmienkach identicikáciu telies, ktorých kapacitu budeme počitať. Pretože na výpočet kapacity je použitý iný algoritmus ako na výpočet polí, tokov a pod. je vhodné mať pre každý typ simulácie vlastný povelový súbor.  \n",
    "\n",
    "    Solver 1\n",
    "      Equation = Electrostatics\n",
    "      Calculate Capacitance Matrix = True              ! vypocet kapacitnej matice\n",
    "      Calculate Electric Flux = True\n",
    "      Variable = Potential\n",
    "      Capacitance Matrix Filename = cap_matrix.dat     ! ulozenie vysledkov\n",
    "      Procedure = \"StatElecSolve\" \"StatElecSolver\"\n",
    "      Calculate Electric Field = True\n",
    "      Calculate Electric Energy = True\n",
    "      ...\n",
    "    End\n",
    "    \n",
    "    Boundary Condition 1\n",
    "      Target Boundaries(1) = 4 \n",
    "      Name = \"1v\"\n",
    "      Capacitance Body = 2                              ! doplnenie ID telies pre vypocet kapacity\n",
    "      Potential = 1\n",
    "    End\n",
    "\n",
    "    Boundary Condition 2\n",
    "      Target Boundaries(1) = 3 \n",
    "      Name = \"-1v\"\n",
    "      Capacitance Body = 3\n",
    "      Potential = -1\n",
    "    End"
   ]
  },
  {
   "cell_type": "markdown",
   "metadata": {},
   "source": [
    "Pre výpočet bola použitá kapacitná matica z solveru pre elektrostatické úlohy, simulačná oblasť bola gula s priemerom 5m. Výpočítané hodnôt z 3D simulácie sú\n",
    "\n",
    "\\begin{equation*}\n",
    "C_{gnd} = 44.70 \\,\\, pF \\qquad C_{mut} = 14.90 \\,\\, pF\n",
    "\\end{equation*}\n",
    "\n",
    "Pre porovnanie - analytické hodnoty\n",
    "\n",
    "\\begin{equation*}\n",
    "C_{gnd} = 46.42 \\,\\, pF \\qquad C_{mut} = 14.97 \\,\\, pF\n",
    "\\end{equation*}\n",
    "\n",
    "Rozdiel v hodnotách je zrejme spôsobený v nedostatočnej hustote siete a okrajovými efektami pri malej simulačnej oblasti. Simulačný model môžeme samozrejme využiť aj na štandardnú simuláciu a zobrazenie vlastností elektrostatického poľa.\n",
    "\n",
    "<img src=\"./img/s5.png\" width=\"600\">\n",
    "\n",
    "--------------"
   ]
  }
 ],
 "metadata": {
  "kernelspec": {
   "display_name": "Python 3 (ipykernel)",
   "language": "python",
   "name": "python3"
  },
  "language_info": {
   "codemirror_mode": {
    "name": "ipython",
    "version": 3
   },
   "file_extension": ".py",
   "mimetype": "text/x-python",
   "name": "python",
   "nbconvert_exporter": "python",
   "pygments_lexer": "ipython3",
   "version": "3.13.2"
  },
  "latex_envs": {
   "LaTeX_envs_menu_present": true,
   "autoclose": false,
   "autocomplete": true,
   "bibliofile": "biblio.bib",
   "cite_by": "apalike",
   "current_citInitial": 1,
   "eqLabelWithNumbers": true,
   "eqNumInitial": 1,
   "hotkeys": {
    "equation": "Ctrl-E",
    "itemize": "Ctrl-I"
   },
   "labels_anchors": false,
   "latex_user_defs": false,
   "report_style_numbering": false,
   "user_envs_cfg": false
  },
  "varInspector": {
   "cols": {
    "lenName": 16,
    "lenType": 16,
    "lenVar": 40
   },
   "kernels_config": {
    "python": {
     "delete_cmd_postfix": "",
     "delete_cmd_prefix": "del ",
     "library": "var_list.py",
     "varRefreshCmd": "print(var_dic_list())"
    },
    "r": {
     "delete_cmd_postfix": ") ",
     "delete_cmd_prefix": "rm(",
     "library": "var_list.r",
     "varRefreshCmd": "cat(var_dic_list()) "
    }
   },
   "types_to_exclude": [
    "module",
    "function",
    "builtin_function_or_method",
    "instance",
    "_Feature"
   ],
   "window_display": false
  }
 },
 "nbformat": 4,
 "nbformat_minor": 4
}
