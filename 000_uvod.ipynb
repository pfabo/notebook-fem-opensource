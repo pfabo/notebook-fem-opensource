{
 "cells": [
  {
   "cell_type": "markdown",
   "metadata": {},
   "source": [
    "# Open-Source nástroje pre FEM\n",
    "\n",
    "Seminár je venovaný prehľadu open-source nástrojov použiteľných pre FEM simulácie v akademickom prostredí. \n",
    "\n",
    "**Obsah**\n",
    "  * Prehľad dostupných programov a nástrojov\n",
    "  * Výmena dát medzi programami, používané formáty\n",
    "  * Tvorba modelu a generovanie mriežky\n",
    "  * Nastavenie simulácie\n",
    "  * Spracovanie a vizualizácia výsledkov simulácie\n",
    "\n",
    "Podklady k semináru sú vo formáte pre Jupyter Notebook.\n",
    "\n",
    "**Demo**\n",
    "\n",
    "3D model problému vytvorený v programe *FreeCAD* - dva vodivé valce s opačným potenciálom.\n",
    "\n",
    "<img src=\"./img/sim_00.png\" width=450 >\n",
    "\n",
    "Generátor siete *gsmh* - vygenerovaná sieť povrchov objektov.\n",
    "\n",
    "<img src=\"./img/sim_02.png\" width=450 >\n",
    "\n",
    "Výsledok simulácie elektrostatického poľa dvoch valcov s rôznym potenciálom vizualizovaný pomocou programu *ParaView*.\n",
    "\n",
    "<img src=\"./img/sim_01.png\" width=450 >\n",
    "\n",
    "## Použitý software\n",
    "\n",
    "V rámci semináru sú použité nasledujúce programy / nástroje.\n",
    "\n",
    "  * Jupyter Notebook  http://jupyter.org/index.html\n",
    "  * Gmsh http://gmsh.info/\n",
    "  * Elmer-CSC https://www.csc.fi/web/elmer\n",
    "  * ParaView https://www.paraview.org/\n",
    "  * FreeCAD https://www.freecadweb.org/\n",
    "  \n",
    "Programy / nástroje sú prioritne vytvorené / kompilované pre OS Linux a štandardne sa nachádzajú v repozitároch distribúcií. Pretože do repozitárov distribúcií sa balíky zaraďujú s nejakým časovým odstupom, pre aktuálne verzie je lepšie použiť návod na inštaláciu resp. stiahnutie skopilovaných verzií priamo na stránkach projektov (inštalácia cez ppa, pip a pod.). "
   ]
  }
 ],
 "metadata": {
  "kernelspec": {
   "display_name": "Python 3",
   "language": "python",
   "name": "python3"
  },
  "language_info": {
   "codemirror_mode": {
    "name": "ipython",
    "version": 3
   },
   "file_extension": ".py",
   "mimetype": "text/x-python",
   "name": "python",
   "nbconvert_exporter": "python",
   "pygments_lexer": "ipython3",
   "version": "3.6.7"
  },
  "latex_envs": {
   "LaTeX_envs_menu_present": true,
   "autoclose": false,
   "autocomplete": true,
   "bibliofile": "biblio.bib",
   "cite_by": "apalike",
   "current_citInitial": 1,
   "eqLabelWithNumbers": true,
   "eqNumInitial": 1,
   "hotkeys": {
    "equation": "Ctrl-E",
    "itemize": "Ctrl-I"
   },
   "labels_anchors": false,
   "latex_user_defs": false,
   "report_style_numbering": false,
   "user_envs_cfg": false
  },
  "varInspector": {
   "cols": {
    "lenName": 16,
    "lenType": 16,
    "lenVar": 40
   },
   "kernels_config": {
    "python": {
     "delete_cmd_postfix": "",
     "delete_cmd_prefix": "del ",
     "library": "var_list.py",
     "varRefreshCmd": "print(var_dic_list())"
    },
    "r": {
     "delete_cmd_postfix": ") ",
     "delete_cmd_prefix": "rm(",
     "library": "var_list.r",
     "varRefreshCmd": "cat(var_dic_list()) "
    }
   },
   "types_to_exclude": [
    "module",
    "function",
    "builtin_function_or_method",
    "instance",
    "_Feature"
   ],
   "window_display": false
  }
 },
 "nbformat": 4,
 "nbformat_minor": 2
}
