{
 "cells": [
  {
   "cell_type": "markdown",
   "id": "f4d325b5-da1c-44ad-b60d-8d2629214930",
   "metadata": {},
   "source": [
    "# <font color='navy'> <b> Inštalácia ElmeCSC a pomocných programov</b></font>\n",
    "\n",
    "Inštalácia z repozitárov je zvyčajne zastaralá, aktuálnu verziu je lepšie skompilovať zo zdrojových súborov. Grafický konfigurátor **ElmerGUI** na novších verziách Linuxu sa už nedá skompilovať z dôvodu zastaralých Qt knižníc. Je vhodnejšie používať knižnicu *pyelmer*, ktorá umožňuje previazanie modelu s parametrami bez konverzie mien simulačných objektov. \n",
    "\n",
    "## <font color='teal'> <b> Fedora </b></font>\n",
    "\n",
    "Inštalovať balíky (Fedora 41)\n",
    "\n",
    "    sudo dnf install git cmake  gfortran \n",
    "    sudo dnf install @development-tools \n",
    "    sudo dnf install openmpi-devel\n",
    "    sudo dnf install *openblas*\n",
    "\n",
    "    pip install pyelmer\n",
    "    pip install gmsh\n",
    "    pip install pygmsh\n",
    "    pip install pyvista\n",
    "    pip install pycirkuit\n",
    "\n",
    "Pomocné programy - stiahnúť binárne súbory z www domácich stránok aplikácií.\n",
    "\n",
    "* [FreeCAD](https://www.freecad.org/)\n",
    "* [Paraview](https://www.paraview.org/)\n",
    "\n",
    "Stiahnuť zdrojové súbory z githubu\n",
    "\n",
    "    git clone https://github.com/ElmerCSC/elmerfem.git\n",
    "    cd elmerfrm\n",
    "    mkdir build\n",
    "\n",
    "Spustiť pre konfiguráciu bez MPI\n",
    "\n",
    "    module load mpi/openmpi-x86_64 \n",
    "    cmake .. -DWITH_OpenMP:BOOLEAN=TRUE\n",
    "\n",
    "Konfigurácia s MPI\n",
    "\n",
    "    cmake .. -DWITH_OpenMP:BOOLEAN=TRUE -DWITH_MPI:BOOLEAN=TRUE\n",
    "\n",
    "Kompilácia a inštalácia\n",
    "\n",
    "    make\n",
    "    sudo make install\n"
   ]
  },
  {
   "cell_type": "markdown",
   "id": "3dd0e47f-5c28-4b8d-947c-3820408c70ac",
   "metadata": {},
   "source": [
    "## <font color='purple'> <b> Inštalované programy </b></font>\n",
    "    \n",
    "    ElmerGrid\n",
    "    ElmerSolver\n",
    "    ElmerSolver_mpi\n",
    "    "
   ]
  },
  {
   "cell_type": "markdown",
   "id": "824c1719-324d-469d-80d3-399f2fc3be34",
   "metadata": {},
   "source": [
    "## <font color='purple'> <b> Pomocné utility </b></font>\n",
    "\n",
    "    https://github.com/nemocrys/pyelmer\n",
    "    https://getfem-examples.readthedocs.io/en/latest/demo_unit_disk.html"
   ]
  }
 ],
 "metadata": {
  "kernelspec": {
   "display_name": "Python 3 (ipykernel)",
   "language": "python",
   "name": "python3"
  },
  "language_info": {
   "codemirror_mode": {
    "name": "ipython",
    "version": 3
   },
   "file_extension": ".py",
   "mimetype": "text/x-python",
   "name": "python",
   "nbconvert_exporter": "python",
   "pygments_lexer": "ipython3",
   "version": "3.13.2"
  }
 },
 "nbformat": 4,
 "nbformat_minor": 5
}
