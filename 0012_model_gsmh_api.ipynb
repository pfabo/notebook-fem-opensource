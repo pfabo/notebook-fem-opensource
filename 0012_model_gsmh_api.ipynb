{
 "cells": [
  {
   "cell_type": "markdown",
   "metadata": {},
   "source": [
    "# <font color='navy'> <b> Vytvorenie simulačného modelu pomocou knižnice gmsh-api </b></font>\n",
    "\n",
    "Pre parametrické generovanie popisu problému v Pythone je možné použiť\n",
    "\n",
    "* **gmsh-api** knižnica s priamym mapovaním funkcií *gmsh* do Pythonu\n",
    "* **pygmsh** knižnica určené pre tvorbu 3D modelov využívajúca pokročilé konštrukcie z *OpenCASCADE* \n",
    "\n",
    "Pre 2D problémy, vyžadujúce definovanie orientovaných povrchov ako napr. elektród sa knižnica *pygmsh* ukázala ako nevhodná, je primárne orientovaná na popis 3D problémov a získať obrys 2D objektu je problematické. "
   ]
  },
  {
   "cell_type": "markdown",
   "metadata": {},
   "source": [
    "### <font color='teal'> <b> Použitie gmsh-api </b></font>\n",
    "\n",
    "Knižnica obsahuje inicializáciu prostredia a pomocné funkcie pre zjednodušenie generovania základných konštrukcií. Globálny parameter **lc** určuje hustotou vygenerovanej mriežky. Princíp knižnice je zrejmý z nasledujúceho fragmentu programu.  \n",
    "\n",
    "```Python\n",
    "import gmsh\n",
    "import numpy\n",
    "import warnings; warnings.filterwarnings(\"ignore\")\n",
    "\n",
    "gmsh.initialize()\n",
    "#gmsh.option.setNumber(\"General.Terminal\",0)     # potlacenie vypisu a chyb\n",
    "#gmsh.option.setNumber(\"General.Terminal\", 1)\n",
    "\n",
    "def Rectangle(x,y, w, h, lc=0.1):\n",
    "    '''\n",
    "    Funkcia pre vytorenie pravouholnika\n",
    "    x,y - stred\n",
    "    w,h - sirka, vyska\n",
    "    \n",
    "    p0---------l0------>--p1 \n",
    "    ^                     |\n",
    "    |                     |\n",
    "    l3        (x,y)       l1\n",
    "    |                     |\n",
    "    |                     v\n",
    "    p3--<------l2---------p2\n",
    "    \n",
    "    return [p0, p1, p2, p3], [l0, l1, l2, l3], c\n",
    "    '''\n",
    "    p0 = gmsh.model.geo.addPoint(x-w/2, y+h/2, 0, lc)\n",
    "    p1 = gmsh.model.geo.addPoint(x+w/2, y+h/2, 0, lc)\n",
    "    p2 = gmsh.model.geo.addPoint(x+w/2, y-h/2, 0, lc)\n",
    "    p3 = gmsh.model.geo.addPoint(x-w/2, y-h/2, 0, lc)\n",
    "    \n",
    "    l0 = gmsh.model.geo.addLine(p0,p1)\n",
    "    l1 = gmsh.model.geo.addLine(p1,p2)\n",
    "    l2 = gmsh.model.geo.addLine(p2,p3)\n",
    "    l3 = gmsh.model.geo.addLine(p3,p0)\n",
    "    \n",
    "    c = gmsh.model.geo.addCurveLoop([p0, p1, p2, p3])\n",
    "    \n",
    "    return ([p0,p1,p2,p3], [l0, l1,l2, l3], c)\n",
    "\n",
    "def Point(x,y, lc=0.1):\n",
    "    '''\n",
    "    Vytvorenie bodu\n",
    "    '''\n",
    "    return gmsh.model.geo.addPoint(x, y, 0, lc)\n",
    "    \n",
    "def Line(pa, pb):\n",
    "    '''\n",
    "    Vytvorenie usecky\n",
    "    '''\n",
    "    return gmsh.model.geo.addLine(pa, pb)\n",
    "\n",
    "```"
   ]
  },
  {
   "cell_type": "markdown",
   "metadata": {},
   "source": [
    "### <font color='purple'> <b>  Príklad 1. Vytvorenie prázdneho objektu  </b></font>\n",
    "\n",
    "Ak pri vytvarani povrchu zadáme v poradí vonkajší objekt a potom vnútorný, vnútorný bude pokladaný za vnútornú hranicu.  "
   ]
  },
  {
   "cell_type": "code",
   "execution_count": 1,
   "metadata": {},
   "outputs": [],
   "source": [
    "%reset -sf \n",
    "from utils.utils import *\n",
    "gmsh.option.setNumber(\"General.Terminal\",0)\n",
    "\n",
    "gmsh.model.add(\"Deravy model\")\n",
    "lc=0.1                                  # hustota generovanej mriezky\n",
    "P0, L0, C0 = Rectangle(0,0, 10, 5)      # vonkajsi priestor\n",
    "P1, L1, C1 = Rectangle(0,0, 3, 1)       # vnutorny priestor\n",
    "\n",
    "gmsh.model.geo.addPlaneSurface([C0, C1])\n",
    "\n",
    "gmsh.model.geo.synchronize()\n",
    "gmsh.model.mesh.generate(2)\n",
    "      \n",
    "gmsh.write(\"./data/demo_api_01.vtk\")\n",
    "gmsh.write(\"./data/demo_api_01.msh\") \n",
    "gmsh.write(\"./data/demo_api_01.geo_unrolled\")   # zapis geo - suboru\n",
    "\n",
    "#import os\n",
    "#_ = os.system('gmsh ./data/demo_api_01.msh &')"
   ]
  },
  {
   "cell_type": "markdown",
   "metadata": {},
   "source": [
    "Vygenerovana mriezka modelu\n",
    "\n",
    "<img src=\"./img/obr_gmsh_01.png\" width=\"600\">"
   ]
  },
  {
   "cell_type": "markdown",
   "metadata": {},
   "source": [
    "### <font color='purple'> <b>  Príklad 2. Vytvorenie vyplneného objektu  </b></font>\n",
    "\n",
    "Ak **pred** vytváraním celkovej plochy vygenerujeme samostatne plochu z vnútorného objektu, tento bude renderovaný ako samostatný objekt."
   ]
  },
  {
   "cell_type": "code",
   "execution_count": 2,
   "metadata": {},
   "outputs": [],
   "source": [
    "%reset -sf \n",
    "from utils.utils import *\n",
    "gmsh.option.setNumber(\"General.Terminal\",0)\n",
    "\n",
    "gmsh.model.add(\"Vyplnený model\")            \n",
    "P0, L0, C0 = Rectangle(0,0, 10, 5, lc=0.5)      # vonkajsi priestor\n",
    "\n",
    "lc = 0.01\n",
    "P1, L1, C1 = Rectangle(0,0, 3, 1, lc=0.1)       # vnutorny objekt\n",
    "\n",
    "gmsh.model.geo.addPlaneSurface([C1])           # generovanie vnutorneho objektu\n",
    "gmsh.model.geo.addPlaneSurface([C0, C1])       # generovanie zostavy\n",
    "\n",
    "gmsh.model.geo.synchronize()\n",
    "gmsh.model.mesh.generate(2)\n",
    "\n",
    "gmsh.write(\"./data/demo_api_02.vtk\")\n",
    "gmsh.write(\"./data/demo_api_02.msh\") \n",
    "gmsh.write(\"./data/demo_api_02.geo_unrolled\")   # zapis geo - suboru\n",
    "\n",
    "#import os\n",
    "#_ = os.system('gmsh ./data/demo_api_02.msh &')"
   ]
  },
  {
   "cell_type": "markdown",
   "metadata": {},
   "source": [
    "Vygenerovana mriezka modelu. \n",
    "Celkovú zostavu treba generovať ako poslednú, inak sa pre vnútorný objekt vygeneruje sanostatná mriežka a tieto sa prekryjú.\n",
    "\n",
    "<img src=\"./img/obr_gmsh_02.png\" width=\"600\">"
   ]
  },
  {
   "cell_type": "markdown",
   "metadata": {},
   "source": [
    "### <font color='purple'> <b>  Príklad 3. Definovanie susedných oblastí  </b></font>\n",
    "\n",
    "Dve oblasti musia mať spoločnú hranicu, nemôžeme vtvoriť dve hranice, ktoré sa prekrývajú.Pre definíciu môžeme použiť už vytvorené línie a body zo susedných oblastí."
   ]
  },
  {
   "cell_type": "code",
   "execution_count": 3,
   "metadata": {},
   "outputs": [],
   "source": [
    "%reset -sf \n",
    "from utils.utils import *\n",
    "gmsh.option.setNumber(\"General.Terminal\",0)\n",
    "\n",
    "gmsh.model.add(\"Hranice\")            \n",
    "P0, L0, C0 = Rectangle( 0, 0, 10, 5)      # vonkajsi priestor\n",
    "P1, L1, C1 = Rectangle(-2, 0,  2, 1) \n",
    "P2, L2, C2 = Rectangle( 2, 0,  2, 1)\n",
    "\n",
    "# vytvorenie prostrednej oblasti\n",
    "p1 = Point(0, 2, lc=0.05)\n",
    "p2 = Point(0,-2, lc=0.05)\n",
    "\n",
    "C4 = gmsh.model.geo.addCurveLoop([   # orientovana krivka !!!\n",
    "    -L1[1],\n",
    "    Line(P1[1], p1),\n",
    "    Line(p1, P2[0]),\n",
    "    -L2[3],\n",
    "    Line(P2[3],p2),\n",
    "    Line(p2, P1[2])\n",
    "    ])\n",
    "\n",
    "\n",
    "q = gmsh.model.geo.addPlaneSurface([C4])\n",
    "w = gmsh.model.geo.addPlaneSurface([C0, C1, C2, C4])\n",
    "\n",
    "gmsh.model.geo.synchronize()\n",
    "gmsh.model.mesh.generate(2)\n",
    "gmsh.write(\"./data/demo_api_03.vtk\")\n",
    "gmsh.write(\"./data/demo_api_03.msh\") \n",
    "gmsh.write(\"./data/demo_api_03.geo_unrolled\")   # zapis geo - suboru\n",
    "\n",
    "#import os\n",
    "3_ = os.system('gmsh ./data/demo_api_03.msh &')"
   ]
  },
  {
   "cell_type": "markdown",
   "metadata": {},
   "source": [
    "<img src=\"./img/obr_gmsh_03.png\" width=\"600\">"
   ]
  },
  {
   "cell_type": "markdown",
   "metadata": {},
   "source": [
    "### <font color='purple'> <b>  Príklad 4. Definovanie fyzických entít </b></font>\n",
    "\n",
    "Pre simulačný model je potrebné definovať fyzické časti, ktoré reprezentujú elektródy, materiál a pod. Pre definíciu oblastí v 2D sa používa krivka, ktorou je ohraničená oblasť.\n"
   ]
  },
  {
   "cell_type": "code",
   "execution_count": 29,
   "metadata": {},
   "outputs": [],
   "source": [
    "%reset -sf \n",
    "from utils.utils import *\n",
    "gmsh.option.setNumber(\"General.Terminal\",0)\n",
    "\n",
    "gmsh.model.add(\"Elektroda\")            \n",
    "P0, L0, C0 = Rectangle(0, 0, 10, 5, lc=0.5)       # vonkajsi priestor\n",
    "P1, L1, C1 = Rectangle(0, 0,  5, 1, lc=0.1)       # vnutorny objekt\n",
    "\n",
    "w = gmsh.model.geo.addPlaneSurface([C0, C1])\n",
    "\n",
    "dim=2\n",
    "space = gmsh.model.geo.addPhysicalGroup(dim, [w])      # simulacny priestor\n",
    "gmsh.model.setPhysicalName(dim, space, \"Space\")\n",
    "\n",
    "dim=1\n",
    "b = gmsh.model.geo.addPhysicalGroup(dim, L0)           # okraj priestoru\n",
    "gmsh.model.setPhysicalName(dim, b, \"Boundary\")\n",
    "\n",
    "e = gmsh.model.geo.addPhysicalGroup(dim, L1)            # elektroda\n",
    "gmsh.model.setPhysicalName(dim, e, \"Elektroda\")\n",
    "\n",
    "gmsh.model.geo.synchronize()\n",
    "gmsh.model.mesh.generate(2)\n",
    "gmsh.write(\"./data/demo_api_04.vtk\")\n",
    "gmsh.write(\"./data/demo_api_04.msh\") \n",
    "gmsh.write(\"./data/demo_api_04.geo_unrolled\")   # zapis geo - suboru\n",
    "\n",
    "#import os\n",
    "#_ = os.system('gmsh ./data/demo_api_04.msh &')"
   ]
  },
  {
   "cell_type": "markdown",
   "metadata": {},
   "source": [
    "<img src=\"./img/obr_gmsh_04.png\" width=\"600\">\n",
    "\n",
    "------------"
   ]
  }
 ],
 "metadata": {
  "kernelspec": {
   "display_name": "Python 3 (ipykernel)",
   "language": "python",
   "name": "python3"
  },
  "language_info": {
   "codemirror_mode": {
    "name": "ipython",
    "version": 3
   },
   "file_extension": ".py",
   "mimetype": "text/x-python",
   "name": "python",
   "nbconvert_exporter": "python",
   "pygments_lexer": "ipython3",
   "version": "3.13.1"
  },
  "latex_envs": {
   "LaTeX_envs_menu_present": true,
   "autoclose": false,
   "autocomplete": true,
   "bibliofile": "biblio.bib",
   "cite_by": "apalike",
   "current_citInitial": 1,
   "eqLabelWithNumbers": true,
   "eqNumInitial": 1,
   "hotkeys": {
    "equation": "Ctrl-E",
    "itemize": "Ctrl-I"
   },
   "labels_anchors": false,
   "latex_user_defs": false,
   "report_style_numbering": false,
   "user_envs_cfg": false
  },
  "varInspector": {
   "cols": {
    "lenName": 16,
    "lenType": 16,
    "lenVar": 40
   },
   "kernels_config": {
    "python": {
     "delete_cmd_postfix": "",
     "delete_cmd_prefix": "del ",
     "library": "var_list.py",
     "varRefreshCmd": "print(var_dic_list())"
    },
    "r": {
     "delete_cmd_postfix": ") ",
     "delete_cmd_prefix": "rm(",
     "library": "var_list.r",
     "varRefreshCmd": "cat(var_dic_list()) "
    }
   },
   "types_to_exclude": [
    "module",
    "function",
    "builtin_function_or_method",
    "instance",
    "_Feature"
   ],
   "window_display": false
  }
 },
 "nbformat": 4,
 "nbformat_minor": 4
}
