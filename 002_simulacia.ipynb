{
 "cells": [
  {
   "cell_type": "markdown",
   "metadata": {},
   "source": [
    "# Simulačné nástroje\n",
    "\n",
    "## Kompaktné prostredia\n",
    "\n",
    "  * http://www.petr-lorenz.com/emgine/  mikropáskové vedenia\n",
    "  * https://www.freecadweb.org/ parametrický CAD s možnosťou FEM simulácie - mechanika\n",
    "  * http://www.agros2d.org/ EM, štrukturálna mechanika, prúdenie kvapalín\n",
    "  * http://onelab.info/ gmsh + GetDP solver\n",
    "  * ...\n",
    "  \n",
    "  \n",
    "## FEM knižnice a solvery\n",
    "\n",
    "  * https://goma.github.io/ Sandia Research Lab., mechanika, prúdenie kvapalín, kapilárne javy, odparovanie ... (solver)\n",
    "  * https://www.dealii.org/ univerzálny FEM simulátor pre PDE (knižnica)\n",
    "  * https://github.com/mfem/mfem univerzálny FEM simulátor pre PDE (knižnica)\n",
    "  * http://oofem.org/ štrukturálna mechanika (solver)\n",
    "  * https://code-aster.org/ termomechanika (solver)\n",
    "  * http://getfem.org/ univerzálny FEM simulátor, Python interface (solver)\n",
    "  * http://www.hpfem.org/hermes/ univerzálny FEM simulátor pre PDE (C++ knižnica)\n",
    "  * http://www.dhondt.de/ Calculix univerzálny FEM simulátor (solver)\n",
    "  * ...\n",
    " \n",
    "## Simulátory\n",
    "  * https://projectchrono.org/ multifyzikálny simulátor, FEM, dynamika ... (knižnica, C++, Python)\n",
    "  * ...\n",
    "  \n",
    "\n"
   ]
  },
  {
   "cell_type": "markdown",
   "metadata": {},
   "source": [
    "# Elmer-CSC\n",
    "\n",
    "Elmer je ope-source multifyzikálny simulačný solver vyvíjaný CSC-IT Center for Science (1995) v spolupráci fínskymi univerzitami a ďaľšími organizáciam, od roku 2005 je open-source. Obsahuje fyzikálne modely pre dynamiku kvapalín, štrukturálnu mechaniku, EM, transport tepla a akustiku.  \n",
    "\n",
    "## Inštalácia\n",
    "\n",
    "V Linuxe je súčasťou distribúcií v balíku *elmer-csc-eg* (Linux Mint 19.0), tento balík obsahuje jednoduché prostredie pre generovanie povelových súborov.\n",
    "\n",
    "## Jednoduchá elektrostatická simulácia \n",
    "\n",
    "Vstupnými dátami pre *Elmer* je vygenerovaná sieť s definovanými a pomenovanými fyzickými entitami. Použijeme sieť vygenerovanú z ppríkladu *ex_01.geo*. V príklade budeme simulovať 2D elektrostatické pole dvoch elektrôd na rôznych potenciáloch. Sieť pre simulátor *Elmer* **musí** byť vygenerovaná vo formáte mesh 2.0.\n",
    "\n",
    "Elektródy sú vytvorené ako dutiny, v ktorých sieť negenerujeme, pretože v uzatvorenom kovovom priestore má intenzita statického elektrické poľa nulovú hodnotu.\n",
    "\n",
    "<img src=\"./img/gmsh_02.png\" width=450 >\n"
   ]
  },
  {
   "cell_type": "code",
   "execution_count": 1,
   "metadata": {},
   "outputs": [],
   "source": [
    "import os\n",
    "_ = os.system(\"gmsh ./sim/ex_01.msh\")  # zobrazenie vygenerovanej siete, neobsahuje logicke entity"
   ]
  },
  {
   "cell_type": "markdown",
   "metadata": {},
   "source": [
    "## Postup simulácie\n",
    "\n",
    "Proces simulácie je riadený textovým súborom s príponou *\\*.sif*, v ktorom je definovaný typ simulácie, počiatočné podmienky, meteriálové parametre a požadované výstupy. V Elmeri je možné kombinovať viacej typov simulácie, napr. prúdenie kvapaliny v prostredí pri zmenách teploty a pod. \n",
    "\n",
    "  * Import mriežky a vvygenerovanie interných mriežok pre solver pomocou programu ElmerGrid\n",
    "  * Vytvorenie povelového súboru *\\*.sif* - v textovom editore alebo pomocou programu ElmerGUI\n",
    "  * Spustenie simulácie ElmerSolver\n",
    "  * Spracovanie výsledkov simulácie\n",
    "  \n",
    "### Import siete\n",
    "\n",
    "Interné siete pre solver vygenerujeme pomocou programu ElmerGrid\n",
    "\n",
    "    ElmerGrid 14 2 ex_01.msh\n",
    "  \n",
    "Prorgarm vytvorí pomocý adresár s názvom *ex_01*, do ktorého uloží vygenerované súbory *mesh.\\**. "
   ]
  },
  {
   "cell_type": "code",
   "execution_count": 2,
   "metadata": {},
   "outputs": [],
   "source": [
    "_ = os.system(\"ElmerGrid 14 2 ./sim/ex_01.msh\")"
   ]
  },
  {
   "cell_type": "markdown",
   "metadata": {},
   "source": [
    "### Vytvorenie povelového súboru\n",
    "\n",
    "Štruktúra *\\*.sif* súboru je detailne popísaná v dokumentácii a na množstve [príkladov](http://www.nic.funet.fi/index/elmer/doc/ElmerTutorials_nonGUI.pdf), na začiatku je možné využiť program *ElmerGUI*, pomocou ktorého môžeme vygenerovať (\"vyklikať\") základnú formu súboru. \n",
    "\n",
    "**Poznámka:** Program ElmerGUI je už značne zastaralý, pochádza ešte z dôb, kedy mal byť súčasťou solveru aj pre- a post-processing, vzhľadom k dostupnosti špecializovaných programov (ParaView ...) tvorcovia už tento program nevyvíjajú a ich aktivity sa sústreďujú len na samotný solver.\n",
    "\n",
    "### Vytvorenie povelového súboru v ElmerGUI\n",
    "\n",
    "Pre definovaním povelového súboru simulácie je potrebné v ElmerGUI importovať súbor s vygenerovanou sieťou."
   ]
  },
  {
   "cell_type": "code",
   "execution_count": null,
   "metadata": {},
   "outputs": [],
   "source": [
    "# spustenie grafick0ho rozhrania\n",
    "_ = os.system(\"ElmerGUI\")"
   ]
  },
  {
   "cell_type": "markdown",
   "metadata": {},
   "source": [
    "**Definícia typu simulácie**\n",
    "\n",
    "V type simulácie určujeme typ súradnicovej sústavy geometrie usporiadania problému (rotačne-symetrická, karteziánska ... ), fyzikálne konštanty, vstupné a výstupné súbory a pod. \n",
    "\n",
    "<img src=\"./img/eg_01.png\" width=350 >\n",
    "\n",
    "**Výber typu problému, materiálových parametrov, počiatočných a okrajových podmienok**\n",
    "\n",
    "Vmenu *Model* postupne definujeme všetky parametre simulácie. Mená fyzických entít sú nahradené ich poradím, toto poradie je uvedené v záhlaví súboru s vygenerovanou sieťou *\\*.msh* Ako okrajové podmienky definujeme potenciály elektrôd a typ okolia, materiálové podmienky definjú permitivitu prostredia.\n",
    "\n",
    "<img src=\"./img/eg_02.png\" width=250 >\n",
    "\n",
    "Po definovaní všetkých podmienok v menu *Sif* vygenerujeme povelový súbor a v pod-menu *Edit* ho uložíme (pod menom napr. *case.sif*) do adresáru s vygenerovanými internými sieťami. Do tohoto adresáru uložíme aj štartovací súbor simulátor *ELMERSOLVER_STARTINFO*, ktorý obsahuje meno povelového súboru pre simulátor *ElmerSolver*, ktorý chceme spustiť (pre jednu kofiguráciu/mriežku môžeme mať vytvorených niekoľko simulácií, s rôznymi počiatočnými podmienkami a pod.)\n",
    "\n",
    "    case.sif\n",
    "\n",
    "alebo simuláciu spustíme z konzoly priamo aj s vygenerovaním štartovacieho súboru\n",
    "    \n",
    "    echo case.sif > ELMERSOLVER_STARTINFO & ElmerSolver\n"
   ]
  },
  {
   "cell_type": "markdown",
   "metadata": {},
   "source": [
    "### Vytvorenie povelového súboru v textovom editore\n",
    "\n",
    "Vytváranie povelového súboru z menu môže byť zdĺhavé a neflexibilné, ak potrebujeme meniť čiastkové parametre napr. okrajové podminky pri opakovaných simuláciách. Povelový súbor môžeme vytvoriť aj jednoducho v textovom editore alebo ho môžeme generovať jednoduchým skriptom. \n",
    "\n",
    "Detailne popísané povelové súbory k príkladom z rôznych typov simulácií sú popísané v dokumentácii [ElmerTutorials_nonGUI](http://www.nic.funet.fi/index/elmer/doc/ElmerTutorials_nonGUI.pdf). \n",
    "\n",
    "Povelový súbor je rozdelený na niekoľko sekcií:\n",
    "\n",
    "**Všeobecné parametre simulácie**\n",
    "\n",
    "    Simulation\n",
    "      Max Output Level = 5\n",
    "      Coordinate System = Cartesian        ! vyber typu suradnicoveho systemu\n",
    "      Coordinate Mapping(3) = 1 2 3        ! moznost vymeny suradnicovyxh osi\n",
    "      Simulation Type = Steady state\n",
    "      Steady State Max Iterations = 1\n",
    "      Output Intervals = 1\n",
    "      Timestepping Method = BDF\n",
    "      BDF Order = 1\n",
    "      Solver Input File = case.sif          ! ignorovane ...\n",
    "      Post File = case.vtu\n",
    "    End\n",
    "    \n",
    "**Konštanty**\n",
    "\n",
    "    Constants                               ! staci uvadzat len tie konstanty\n",
    "      Gravity(4) = 0 -1 0 9.82              ! ktore su relevantne pre dany typ simulacie\n",
    "      Stefan Boltzmann = 5.67e-08\n",
    "      Permittivity of Vacuum = 8.8542e-12\n",
    "      Boltzmann Constant = 1.3807e-23\n",
    "      Unit Charge = 1.602e-19\n",
    "    End"
   ]
  },
  {
   "cell_type": "markdown",
   "metadata": {},
   "source": [
    "**Definícia problému**\n",
    "\n",
    "Pre komplexnejšie problémy môžeme mať definovaných niekoľko solverov. V procese simulácie sa v každom kroku na riešenie úlohy použijú všetky solvery, ich poradie a prioritu je možné voliť.\n",
    "\n",
    "    Solver 1\n",
    "      Equation = Electrostatics\n",
    "      Calculate Electric Energy = True\n",
    "      Procedure = \"StatElecSolve\" \"StatElecSolver\"\n",
    "      Variable = Potential\n",
    "      Calculate Electric Flux = True\n",
    "      Calculate Electric Field = True\n",
    "      Exec Solver = Always\n",
    "      ... kopa dalsich nastaveni\n",
    "      ... pre linearny a nelinearny solver\n",
    "    End"
   ]
  },
  {
   "cell_type": "markdown",
   "metadata": {},
   "source": [
    "**Výber skupiny rovníc pre riešenie problému**\n",
    "\n",
    "V definícii problému môžeme mať definovaných niekoľko typov solverov, je možné z nich kombinovať rôzne typy rovníc, ktoré môžu byť použité na rôzne časti problému. Napr. pri simulácii prúdenia kvapaliny potrubím, ktorého rozmery sa menia s teplotou, nebudeme pre simuláciu zmeny potrubia od teploty používať solver pre riešenie prúdenia kvapaliny.\n",
    "\n",
    "    Equation 1\n",
    "      Name = \"Equation 1\"\n",
    "      Active Solvers(1) = 1\n",
    "    End\n",
    "\n",
    "**Definícia materiálov a ich vlastností**\n",
    "\n",
    "    Material 1\n",
    "      Name = \"Material 1\"\n",
    "      Relative Permittivity = 1\n",
    "    End\n",
    "    \n",
    "**Výber rovníc pre jednotlivé fyzické entity**    \n",
    "\n",
    "Teleso 1 je z materiálu 1 a pre riešenie sa použije skupina rovníc 1.\n",
    "\n",
    "    Body 1\n",
    "      Target Bodies(1) = 4\n",
    "      Name = \"Body 1\"\n",
    "      Equation = 1\n",
    "      Material = 1\n",
    "    End\n",
    "\n",
    "**Okrajové podmienky**\n",
    "\n",
    "Definícia okrajových podmienok pre hranice problému. Položky závisia od typu problému, jednotky sú v SI.\n",
    "\n",
    "    Boundary Condition 1\n",
    "      Target Boundaries(1) = 1 \n",
    "      Name = \"BoundaryCondition 1\"\n",
    "      Potential = 10                    ! potencial elektrody +10 [V]\n",
    "    End\n",
    "\n",
    "    Boundary Condition 2\n",
    "      Target Boundaries(1) = 2 \n",
    "      Name = \"BoundaryCondition 2\"\n",
    "      Potential = -10\n",
    "    End\n",
    "\n",
    "    Boundary Condition 3\n",
    "      Target Boundaries(1) = 3 \n",
    "      Name = \"BoundaryCondition 3\"\n",
    "      Potential = 0\n",
    "    End\n",
    "    \n",
    "    "
   ]
  }
 ],
 "metadata": {
  "kernelspec": {
   "display_name": "Python 3",
   "language": "python",
   "name": "python3"
  },
  "language_info": {
   "codemirror_mode": {
    "name": "ipython",
    "version": 3
   },
   "file_extension": ".py",
   "mimetype": "text/x-python",
   "name": "python",
   "nbconvert_exporter": "python",
   "pygments_lexer": "ipython3",
   "version": "3.6.7"
  },
  "latex_envs": {
   "LaTeX_envs_menu_present": true,
   "autoclose": false,
   "autocomplete": true,
   "bibliofile": "biblio.bib",
   "cite_by": "apalike",
   "current_citInitial": 1,
   "eqLabelWithNumbers": true,
   "eqNumInitial": 1,
   "hotkeys": {
    "equation": "Ctrl-E",
    "itemize": "Ctrl-I"
   },
   "labels_anchors": false,
   "latex_user_defs": false,
   "report_style_numbering": false,
   "user_envs_cfg": false
  },
  "varInspector": {
   "cols": {
    "lenName": 16,
    "lenType": 16,
    "lenVar": 40
   },
   "kernels_config": {
    "python": {
     "delete_cmd_postfix": "",
     "delete_cmd_prefix": "del ",
     "library": "var_list.py",
     "varRefreshCmd": "print(var_dic_list())"
    },
    "r": {
     "delete_cmd_postfix": ") ",
     "delete_cmd_prefix": "rm(",
     "library": "var_list.r",
     "varRefreshCmd": "cat(var_dic_list()) "
    }
   },
   "types_to_exclude": [
    "module",
    "function",
    "builtin_function_or_method",
    "instance",
    "_Feature"
   ],
   "window_display": false
  }
 },
 "nbformat": 4,
 "nbformat_minor": 2
}
